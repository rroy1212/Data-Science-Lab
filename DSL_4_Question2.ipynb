{
  "nbformat": 4,
  "nbformat_minor": 0,
  "metadata": {
    "colab": {
      "name": "DSL_4_Question2.ipynb",
      "provenance": []
    },
    "kernelspec": {
      "name": "python3",
      "display_name": "Python 3"
    }
  },
  "cells": [
    {
      "cell_type": "markdown",
      "metadata": {
        "id": "Kr97FNSWJ-lX",
        "colab_type": "text"
      },
      "source": [
        "**Problem 2:** \n",
        "\n",
        "Multi-class Logistic Regression – Visualizing the Solution. You will repeat the previous problem but for the MNIST dataset which you will ﬁnd here: https://www.openml. org/d/554. MNIST is a dataset of handwritten digits, and is considered one of the easiest image recognition problems in computer vision. We will see here how well logistic regression does, as you did above on the CIFAR-10 subset. In addition, we will see that we can visualize the solution, and that in connection to this, sparsity can be useful. "
      ]
    },
    {
      "cell_type": "code",
      "metadata": {
        "id": "b5UJ0AcssQkG",
        "colab_type": "code",
        "colab": {}
      },
      "source": [
        "import pandas as pd\n",
        "import numpy as np\n",
        "import matplotlib.pyplot as plt\n",
        "from sklearn import datasets\n",
        "from sklearn.linear_model import LogisticRegression\n",
        "from sklearn.model_selection import StratifiedKFold\n",
        "from sklearn.model_selection import GridSearchCV\n",
        "from sklearn.metrics import classification_report\n",
        "%matplotlib inline"
      ],
      "execution_count": 0,
      "outputs": []
    },
    {
      "cell_type": "markdown",
      "metadata": {
        "id": "hQgRmo5dNvD2",
        "colab_type": "text"
      },
      "source": [
        "Use the fetch openml command from sklearn.datasets to import the MNIST data set"
      ]
    },
    {
      "cell_type": "code",
      "metadata": {
        "id": "vxEI9TCDtAus",
        "colab_type": "code",
        "colab": {}
      },
      "source": [
        "mnist = datasets.fetch_openml(name='mnist_784',version='active') # Using fetch openML "
      ],
      "execution_count": 0,
      "outputs": []
    },
    {
      "cell_type": "code",
      "metadata": {
        "id": "4yIJJhcrvJqh",
        "colab_type": "code",
        "outputId": "21f88946-27fd-4e0f-e609-a995f166e6fb",
        "colab": {
          "base_uri": "https://localhost:8080/",
          "height": 141
        }
      },
      "source": [
        "mnist.data\n"
      ],
      "execution_count": 0,
      "outputs": [
        {
          "output_type": "execute_result",
          "data": {
            "text/plain": [
              "array([[0., 0., 0., ..., 0., 0., 0.],\n",
              "       [0., 0., 0., ..., 0., 0., 0.],\n",
              "       [0., 0., 0., ..., 0., 0., 0.],\n",
              "       ...,\n",
              "       [0., 0., 0., ..., 0., 0., 0.],\n",
              "       [0., 0., 0., ..., 0., 0., 0.],\n",
              "       [0., 0., 0., ..., 0., 0., 0.]])"
            ]
          },
          "metadata": {
            "tags": []
          },
          "execution_count": 4
        }
      ]
    },
    {
      "cell_type": "code",
      "metadata": {
        "id": "ETjr8wfExDmg",
        "colab_type": "code",
        "outputId": "3b6614a7-bc38-4a07-ce90-72f79497fec1",
        "colab": {
          "base_uri": "https://localhost:8080/",
          "height": 35
        }
      },
      "source": [
        "np.unique(mnist.target)"
      ],
      "execution_count": 0,
      "outputs": [
        {
          "output_type": "execute_result",
          "data": {
            "text/plain": [
              "array(['0', '1', '2', '3', '4', '5', '6', '7', '8', '9'], dtype=object)"
            ]
          },
          "metadata": {
            "tags": []
          },
          "execution_count": 6
        }
      ]
    },
    {
      "cell_type": "code",
      "metadata": {
        "id": "FOUc3l_Pwfgn",
        "colab_type": "code",
        "outputId": "79abb9bc-c79a-4708-8bb5-5f663aacb8d0",
        "colab": {
          "base_uri": "https://localhost:8080/",
          "height": 268
        }
      },
      "source": [
        "print(mnist.DESCR) "
      ],
      "execution_count": 0,
      "outputs": [
        {
          "output_type": "stream",
          "text": [
            "**Author**: Yann LeCun, Corinna Cortes, Christopher J.C. Burges  \n",
            "**Source**: [MNIST Website](http://yann.lecun.com/exdb/mnist/) - Date unknown  \n",
            "**Please cite**:  \n",
            "\n",
            "The MNIST database of handwritten digits with 784 features, raw data available at: http://yann.lecun.com/exdb/mnist/. It can be split in a training set of the first 60,000 examples, and a test set of 10,000 examples  \n",
            "\n",
            "It is a subset of a larger set available from NIST. The digits have been size-normalized and centered in a fixed-size image. It is a good database for people who want to try learning techniques and pattern recognition methods on real-world data while spending minimal efforts on preprocessing and formatting. The original black and white (bilevel) images from NIST were size normalized to fit in a 20x20 pixel box while preserving their aspect ratio. The resulting images contain grey levels as a result of the anti-aliasing technique used by the normalization algorithm. the images were centered in a 28x28 image by computing the center of mass of the pixels, and translating the image so as to position this point at the center of the 28x28 field.  \n",
            "\n",
            "With some classification methods (particularly template-based methods, such as SVM and K-nearest neighbors), the error rate improves when the digits are centered by bounding box rather than center of mass. If you do this kind of pre-processing, you should report it in your publications. The MNIST database was constructed from NIST's NIST originally designated SD-3 as their training set and SD-1 as their test set. However, SD-3 is much cleaner and easier to recognize than SD-1. The reason for this can be found on the fact that SD-3 was collected among Census Bureau employees, while SD-1 was collected among high-school students. Drawing sensible conclusions from learning experiments requires that the result be independent of the choice of training set and test among the complete set of samples. Therefore it was necessary to build a new database by mixing NIST's datasets.  \n",
            "\n",
            "The MNIST training set is composed of 30,000 patterns from SD-3 and 30,000 patterns from SD-1. Our test set was composed of 5,000 patterns from SD-3 and 5,000 patterns from SD-1. The 60,000 pattern training set contained examples from approximately 250 writers. We made sure that the sets of writers of the training set and test set were disjoint. SD-1 contains 58,527 digit images written by 500 different writers. In contrast to SD-3, where blocks of data from each writer appeared in sequence, the data in SD-1 is scrambled. Writer identities for SD-1 is available and we used this information to unscramble the writers. We then split SD-1 in two: characters written by the first 250 writers went into our new training set. The remaining 250 writers were placed in our test set. Thus we had two sets with nearly 30,000 examples each. The new training set was completed with enough examples from SD-3, starting at pattern # 0, to make a full set of 60,000 training patterns. Similarly, the new test set was completed with SD-3 examples starting at pattern # 35,000 to make a full set with 60,000 test patterns. Only a subset of 10,000 test images (5,000 from SD-1 and 5,000 from SD-3) is available on this site. The full 60,000 sample training set is available.\n",
            "\n",
            "Downloaded from openml.org.\n"
          ],
          "name": "stdout"
        }
      ]
    },
    {
      "cell_type": "code",
      "metadata": {
        "id": "vJ28kW-4to12",
        "colab_type": "code",
        "outputId": "e79d6912-f8dd-498a-d99a-c51bab534227",
        "colab": {
          "base_uri": "https://localhost:8080/",
          "height": 35
        }
      },
      "source": [
        "mnist.data.shape\n"
      ],
      "execution_count": 0,
      "outputs": [
        {
          "output_type": "execute_result",
          "data": {
            "text/plain": [
              "(70000, 784)"
            ]
          },
          "metadata": {
            "tags": []
          },
          "execution_count": 8
        }
      ]
    },
    {
      "cell_type": "code",
      "metadata": {
        "id": "Lm-gV1pFt0xG",
        "colab_type": "code",
        "outputId": "e3929315-303c-4a75-bcc8-e7342c2df9fc",
        "colab": {
          "base_uri": "https://localhost:8080/",
          "height": 268
        }
      },
      "source": [
        "print(mnist.DESCR) "
      ],
      "execution_count": 0,
      "outputs": [
        {
          "output_type": "stream",
          "text": [
            "**Author**: Yann LeCun, Corinna Cortes, Christopher J.C. Burges  \n",
            "**Source**: [MNIST Website](http://yann.lecun.com/exdb/mnist/) - Date unknown  \n",
            "**Please cite**:  \n",
            "\n",
            "The MNIST database of handwritten digits with 784 features, raw data available at: http://yann.lecun.com/exdb/mnist/. It can be split in a training set of the first 60,000 examples, and a test set of 10,000 examples  \n",
            "\n",
            "It is a subset of a larger set available from NIST. The digits have been size-normalized and centered in a fixed-size image. It is a good database for people who want to try learning techniques and pattern recognition methods on real-world data while spending minimal efforts on preprocessing and formatting. The original black and white (bilevel) images from NIST were size normalized to fit in a 20x20 pixel box while preserving their aspect ratio. The resulting images contain grey levels as a result of the anti-aliasing technique used by the normalization algorithm. the images were centered in a 28x28 image by computing the center of mass of the pixels, and translating the image so as to position this point at the center of the 28x28 field.  \n",
            "\n",
            "With some classification methods (particularly template-based methods, such as SVM and K-nearest neighbors), the error rate improves when the digits are centered by bounding box rather than center of mass. If you do this kind of pre-processing, you should report it in your publications. The MNIST database was constructed from NIST's NIST originally designated SD-3 as their training set and SD-1 as their test set. However, SD-3 is much cleaner and easier to recognize than SD-1. The reason for this can be found on the fact that SD-3 was collected among Census Bureau employees, while SD-1 was collected among high-school students. Drawing sensible conclusions from learning experiments requires that the result be independent of the choice of training set and test among the complete set of samples. Therefore it was necessary to build a new database by mixing NIST's datasets.  \n",
            "\n",
            "The MNIST training set is composed of 30,000 patterns from SD-3 and 30,000 patterns from SD-1. Our test set was composed of 5,000 patterns from SD-3 and 5,000 patterns from SD-1. The 60,000 pattern training set contained examples from approximately 250 writers. We made sure that the sets of writers of the training set and test set were disjoint. SD-1 contains 58,527 digit images written by 500 different writers. In contrast to SD-3, where blocks of data from each writer appeared in sequence, the data in SD-1 is scrambled. Writer identities for SD-1 is available and we used this information to unscramble the writers. We then split SD-1 in two: characters written by the first 250 writers went into our new training set. The remaining 250 writers were placed in our test set. Thus we had two sets with nearly 30,000 examples each. The new training set was completed with enough examples from SD-3, starting at pattern # 0, to make a full set of 60,000 training patterns. Similarly, the new test set was completed with SD-3 examples starting at pattern # 35,000 to make a full set with 60,000 test patterns. Only a subset of 10,000 test images (5,000 from SD-1 and 5,000 from SD-3) is available on this site. The full 60,000 sample training set is available.\n",
            "\n",
            "Downloaded from openml.org.\n"
          ],
          "name": "stdout"
        }
      ]
    },
    {
      "cell_type": "code",
      "metadata": {
        "id": "_3ZlR1vft2Te",
        "colab_type": "code",
        "outputId": "f8550ab8-925e-4f66-af34-e47814cc95b4",
        "colab": {
          "base_uri": "https://localhost:8080/",
          "height": 390
        }
      },
      "source": [
        "mnist.details"
      ],
      "execution_count": 0,
      "outputs": [
        {
          "output_type": "execute_result",
          "data": {
            "text/plain": [
              "{'default_target_attribute': 'class',\n",
              " 'file_id': '52667',\n",
              " 'format': 'ARFF',\n",
              " 'id': '554',\n",
              " 'licence': 'Public',\n",
              " 'md5_checksum': '0298d579eb1b86163de7723944c7e495',\n",
              " 'name': 'mnist_784',\n",
              " 'processing_date': '2018-10-03 21:23:30',\n",
              " 'status': 'active',\n",
              " 'tag': ['AzurePilot',\n",
              "  'OpenML-CC18',\n",
              "  'OpenML100',\n",
              "  'study_1',\n",
              "  'study_123',\n",
              "  'study_41',\n",
              "  'study_99',\n",
              "  'vision'],\n",
              " 'upload_date': '2014-09-29T03:28:38',\n",
              " 'url': 'https://www.openml.org/data/v1/download/52667/mnist_784.arff',\n",
              " 'version': '1',\n",
              " 'visibility': 'public'}"
            ]
          },
          "metadata": {
            "tags": []
          },
          "execution_count": 10
        }
      ]
    },
    {
      "cell_type": "code",
      "metadata": {
        "id": "5RSdIqPLt92Q",
        "colab_type": "code",
        "colab": {}
      },
      "source": [
        "X = mnist[\"data\"]"
      ],
      "execution_count": 0,
      "outputs": []
    },
    {
      "cell_type": "code",
      "metadata": {
        "id": "Y_BjaJVUvsf2",
        "colab_type": "code",
        "colab": {}
      },
      "source": [
        "y= mnist[\"target\"]"
      ],
      "execution_count": 0,
      "outputs": []
    },
    {
      "cell_type": "code",
      "metadata": {
        "id": "ffAkoe1_1IkP",
        "colab_type": "code",
        "outputId": "cd29cf79-0ecb-4621-83b9-37eaa30ef373",
        "colab": {
          "base_uri": "https://localhost:8080/",
          "height": 35
        }
      },
      "source": [
        "y"
      ],
      "execution_count": 0,
      "outputs": [
        {
          "output_type": "execute_result",
          "data": {
            "text/plain": [
              "array(['5', '0', '4', ..., '4', '5', '6'], dtype=object)"
            ]
          },
          "metadata": {
            "tags": []
          },
          "execution_count": 13
        }
      ]
    },
    {
      "cell_type": "code",
      "metadata": {
        "id": "v7Ta-CyJuFyz",
        "colab_type": "code",
        "outputId": "8ccf5430-fc28-4beb-a4fa-57e616894d24",
        "colab": {
          "base_uri": "https://localhost:8080/",
          "height": 35
        }
      },
      "source": [
        "X.shape"
      ],
      "execution_count": 0,
      "outputs": [
        {
          "output_type": "execute_result",
          "data": {
            "text/plain": [
              "(70000, 784)"
            ]
          },
          "metadata": {
            "tags": []
          },
          "execution_count": 14
        }
      ]
    },
    {
      "cell_type": "code",
      "metadata": {
        "id": "shGAZeLcvm8x",
        "colab_type": "code",
        "outputId": "8cca9068-58eb-4f0e-c74b-18a20b592e98",
        "colab": {
          "base_uri": "https://localhost:8080/",
          "height": 35
        }
      },
      "source": [
        "y.shape"
      ],
      "execution_count": 0,
      "outputs": [
        {
          "output_type": "execute_result",
          "data": {
            "text/plain": [
              "(70000,)"
            ]
          },
          "metadata": {
            "tags": []
          },
          "execution_count": 15
        }
      ]
    },
    {
      "cell_type": "code",
      "metadata": {
        "id": "2uildKYHzf6F",
        "colab_type": "code",
        "colab": {}
      },
      "source": [
        "from sklearn.model_selection import train_test_split"
      ],
      "execution_count": 0,
      "outputs": []
    },
    {
      "cell_type": "markdown",
      "metadata": {
        "id": "LAI2kXXoRNcT",
        "colab_type": "text"
      },
      "source": [
        "Choose a reasonable train-test split, and again run multi-class logistic regression on these using the cross entropy loss, as you did above. Try to optimize the hyperparameters. "
      ]
    },
    {
      "cell_type": "code",
      "metadata": {
        "id": "Bx9SM5jBzoXy",
        "colab_type": "code",
        "colab": {}
      },
      "source": [
        "X_train, X_test, y_train, y_test = train_test_split(X, y, test_size=0.25,shuffle=False)"
      ],
      "execution_count": 0,
      "outputs": []
    },
    {
      "cell_type": "code",
      "metadata": {
        "id": "kp-of8x-nlMx",
        "colab_type": "code",
        "outputId": "363cb358-8c30-4540-a4b4-0c6a65d71672",
        "colab": {
          "base_uri": "https://localhost:8080/",
          "height": 35
        }
      },
      "source": [
        "X_train.shape"
      ],
      "execution_count": 0,
      "outputs": [
        {
          "output_type": "execute_result",
          "data": {
            "text/plain": [
              "(52500, 784)"
            ]
          },
          "metadata": {
            "tags": []
          },
          "execution_count": 47
        }
      ]
    },
    {
      "cell_type": "code",
      "metadata": {
        "id": "MwjB1vVTiYhK",
        "colab_type": "code",
        "outputId": "25ef8f88-1b9d-4b12-af38-9d4cb9cf4969",
        "colab": {
          "base_uri": "https://localhost:8080/",
          "height": 283
        }
      },
      "source": [
        "plt.figure(figsize=(20,4))\n",
        "for index, (image, label) in enumerate(zip(X_train[0:5], y_train[0:5])):\n",
        " plt.subplot(1, 5, index + 1)\n",
        " plt.imshow(np.reshape(image, (28,28)), cmap=plt.cm.gray)\n",
        " plt.title('Training: %s\\n' % label, fontsize = 20)"
      ],
      "execution_count": 0,
      "outputs": [
        {
          "output_type": "display_data",
          "data": {
            "image/png": "[encoded data removed]",
            "text/plain": [
              "<Figure size 1440x288 with 5 Axes>"
            ]
          },
          "metadata": {
            "tags": [],
            "needs_background": "light"
          }
        }
      ]
    },
    {
      "cell_type": "code",
      "metadata": {
        "id": "wgYGZLSFygop",
        "colab_type": "code",
        "colab": {}
      },
      "source": [
        "Log_Reg=LogisticRegression()"
      ],
      "execution_count": 0,
      "outputs": []
    },
    {
      "cell_type": "code",
      "metadata": {
        "id": "pa6XBaY-u83h",
        "colab_type": "code",
        "colab": {}
      },
      "source": [
        "folds= 5\n",
        "sk_fold=StratifiedKFold(n_splits=folds,shuffle=True,random_state=1001)"
      ],
      "execution_count": 0,
      "outputs": []
    },
    {
      "cell_type": "code",
      "metadata": {
        "id": "bcU0Dm_GxITr",
        "colab_type": "code",
        "colab": {}
      },
      "source": [
        "parameters={'solver':['saga'],'multi_class':['multinomial'],'penalty':['l1','l2'],'C':[0.001,0.01,0.1,1,10,100,1000]}"
      ],
      "execution_count": 0,
      "outputs": []
    },
    {
      "cell_type": "code",
      "metadata": {
        "id": "oumBsUr0yNP_",
        "colab_type": "code",
        "colab": {}
      },
      "source": [
        "\n",
        "Log_Reg=LogisticRegression()\n",
        "grid_search = GridSearchCV(Log_Reg,parameters,n_jobs=4,cv=sk_fold,scoring='accuracy',verbose=10,refit=True)"
      ],
      "execution_count": 0,
      "outputs": []
    },
    {
      "cell_type": "code",
      "metadata": {
        "id": "FCjqOYY8y-1U",
        "colab_type": "code",
        "outputId": "9ffb33d5-5d90-4ba7-ea1c-fb340206ef08",
        "colab": {
          "base_uri": "https://localhost:8080/",
          "height": 586
        }
      },
      "source": [
        "grid_search.fit(X_train,y_train)``## Perform grid search CV to tune the hyperparameters"
      ],
      "execution_count": 0,
      "outputs": [
        {
          "output_type": "stream",
          "text": [
            "Fitting 5 folds for each of 14 candidates, totalling 70 fits\n"
          ],
          "name": "stdout"
        },
        {
          "output_type": "stream",
          "text": [
            "[Parallel(n_jobs=4)]: Using backend LokyBackend with 4 concurrent workers.\n",
            "[Parallel(n_jobs=4)]: Done   5 tasks      | elapsed: 29.3min\n",
            "[Parallel(n_jobs=4)]: Done  10 tasks      | elapsed: 40.2min\n",
            "[Parallel(n_jobs=4)]: Done  17 tasks      | elapsed: 73.4min\n",
            "[Parallel(n_jobs=4)]: Done  24 tasks      | elapsed: 102.0min\n",
            "[Parallel(n_jobs=4)]: Done  33 tasks      | elapsed: 132.8min\n",
            "[Parallel(n_jobs=4)]: Done  42 tasks      | elapsed: 166.1min\n",
            "[Parallel(n_jobs=4)]: Done  53 tasks      | elapsed: 205.6min\n",
            "[Parallel(n_jobs=4)]: Done  70 out of  70 | elapsed: 258.1min finished\n",
            "/usr/local/lib/python3.6/dist-packages/sklearn/linear_model/_sag.py:330: ConvergenceWarning: The max_iter was reached which means the coef_ did not converge\n",
            "  \"the coef_ did not converge\", ConvergenceWarning)\n"
          ],
          "name": "stderr"
        },
        {
          "output_type": "execute_result",
          "data": {
            "text/plain": [
              "GridSearchCV(cv=StratifiedKFold(n_splits=5, random_state=1001, shuffle=True),\n",
              "             error_score=nan,\n",
              "             estimator=LogisticRegression(C=1.0, class_weight=None, dual=False,\n",
              "                                          fit_intercept=True,\n",
              "                                          intercept_scaling=1, l1_ratio=None,\n",
              "                                          max_iter=100, multi_class='auto',\n",
              "                                          n_jobs=None, penalty='l2',\n",
              "                                          random_state=None, solver='lbfgs',\n",
              "                                          tol=0.0001, verbose=0,\n",
              "                                          warm_start=False),\n",
              "             iid='deprecated', n_jobs=4,\n",
              "             param_grid={'C': [0.001, 0.01, 0.1, 1, 10, 100, 1000],\n",
              "                         'multi_class': ['multinomial'],\n",
              "                         'penalty': ['l1', 'l2'], 'solver': ['saga']},\n",
              "             pre_dispatch='2*n_jobs', refit=True, return_train_score=False,\n",
              "             scoring='accuracy', verbose=10)"
            ]
          },
          "metadata": {
            "tags": []
          },
          "execution_count": 73
        },
        {
          "output_type": "stream",
          "text": [
            "Fitting 5 folds for each of 14 candidates, totalling 70 fits\n"
          ],
          "name": "stdout"
        },
        {
          "output_type": "stream",
          "text": [
            "[Parallel(n_jobs=4)]: Using backend LokyBackend with 4 concurrent workers.\n",
            "[Parallel(n_jobs=4)]: Done   5 tasks      | elapsed: 29.4min\n",
            "[Parallel(n_jobs=4)]: Done  10 tasks      | elapsed: 40.7min\n",
            "[Parallel(n_jobs=4)]: Done  17 tasks      | elapsed: 73.8min\n"
          ],
          "name": "stderr"
        }
      ]
    },
    {
      "cell_type": "code",
      "metadata": {
        "id": "qlEQlkV1zlfN",
        "colab_type": "code",
        "colab": {}
      },
      "source": [
        "# Fitting 5 folds for each of 14 candidates, totalling 70 fits\n",
        "# [Parallel(n_jobs=4)]: Using backend LokyBackend with 4 concurrent workers.\n",
        "# [Parallel(n_jobs=4)]: Done   5 tasks      | elapsed: 29.3min\n",
        "# [Parallel(n_jobs=4)]: Done  10 tasks      | elapsed: 40.2min\n",
        "# [Parallel(n_jobs=4)]: Done  17 tasks      | elapsed: 73.4min\n",
        "# [Parallel(n_jobs=4)]: Done  24 tasks      | elapsed: 102.0min\n",
        "# [Parallel(n_jobs=4)]: Done  33 tasks      | elapsed: 132.8min\n",
        "# [Parallel(n_jobs=4)]: Done  42 tasks      | elapsed: 166.1min\n",
        "# [Parallel(n_jobs=4)]: Done  53 tasks      | elapsed: 205.6min\n",
        "# [Parallel(n_jobs=4)]: Done  70 out of  70 | elapsed: 258.1min finished\n",
        "# /usr/local/lib/python3.6/dist-packages/sklearn/linear_model/_sag.py:330: ConvergenceWarning: The max_iter was reached which means the coef_ did not converge\n",
        "#   \"the coef_ did not converge\", ConvergenceWarning)\n",
        "# GridSearchCV(cv=StratifiedKFold(n_splits=5, random_state=1001, shuffle=True),\n",
        "#              error_score=nan,\n",
        "#              estimator=LogisticRegression(C=1.0, class_weight=None, dual=False,\n",
        "#                                           fit_intercept=True,\n",
        "#                                           intercept_scaling=1, l1_ratio=None,\n",
        "#                                           max_iter=100, multi_class='auto',\n",
        "#                                           n_jobs=None, penalty='l2',\n",
        "#                                           random_state=None, solver='lbfgs',\n",
        "#                                           tol=0.0001, verbose=0,\n",
        "#                                           warm_start=False),\n",
        "#              iid='deprecated', n_jobs=4,\n",
        "#              param_grid={'C': [0.001, 0.01, 0.1, 1, 10, 100, 1000],\n",
        "#                          'multi_class': ['multinomial'],\n",
        "#                          'penalty': ['l1', 'l2'], 'solver': ['saga']},\n",
        "#              pre_dispatch='2*n_jobs', refit=True, return_train_score=False,\n",
        "#              scoring='accuracy', verbose=10)Fitting 5 folds for each of 14 candidates, totalling 70 fits\n",
        "# [Parallel(n_jobs=4)]: Using backend LokyBackend with 4 concurrent workers.\n",
        "# [Parallel(n_jobs=4)]: Done   5 tasks      | elapsed: 29.4min"
      ],
      "execution_count": 0,
      "outputs": []
    },
    {
      "cell_type": "code",
      "metadata": {
        "id": "YmAo1qZl-2MJ",
        "colab_type": "code",
        "colab": {}
      },
      "source": [
        ""
      ],
      "execution_count": 0,
      "outputs": []
    },
    {
      "cell_type": "markdown",
      "metadata": {
        "id": "E3zY4L-r9_id",
        "colab_type": "text"
      },
      "source": [
        "\n",
        "Fitting 5 folds for each of 14 candidates, totalling 70 fits\n",
        "[Parallel(n_jobs=4)]: Using backend LokyBackend with 4 concurrent workers.\n",
        "[Parallel(n_jobs=4)]: Done   5 tasks      | elapsed: 29.3min\n",
        "[Parallel(n_jobs=4)]: Done  10 tasks      | elapsed: 40.2min\n",
        "[Parallel(n_jobs=4)]: Done  17 tasks      | elapsed: 73.4min\n",
        "[Parallel(n_jobs=4)]: Done  24 tasks      | elapsed: 102.0min\n",
        "[Parallel(n_jobs=4)]: Done  33 tasks      | elapsed: 132.8min\n",
        "[Parallel(n_jobs=4)]: Done  42 tasks      | elapsed: 166.1min\n",
        "[Parallel(n_jobs=4)]: Done  53 tasks      | elapsed: 205.6min\n",
        "[Parallel(n_jobs=4)]: Done  70 out of  70 | elapsed: 258.1min finished\n",
        "/usr/local/lib/python3.6/dist-packages/sklearn/linear_model/_sag.py:330: ConvergenceWarning: The max_iter was reached which means the coef_ did not converge\n",
        "  \"the coef_ did not converge\", ConvergenceWarning)\n",
        "GridSearchCV(cv=StratifiedKFold(n_splits=5, random_state=1001, shuffle=True),\n",
        "             error_score=nan,\n",
        "             estimator=LogisticRegression(C=1.0, class_weight=None, dual=False,\n",
        "                                          fit_intercept=True,\n",
        "                                          intercept_scaling=1, l1_ratio=None,\n",
        "                                          max_iter=100, multi_class='auto',\n",
        "                                          n_jobs=None, penalty='l2',\n",
        "                                          random_state=None, solver='lbfgs',\n",
        "                                          tol=0.0001, verbose=0,\n",
        "                                          warm_start=False),\n",
        "             iid='deprecated', n_jobs=4,\n",
        "             param_grid={'C': [0.001, 0.01, 0.1, 1, 10, 100, 1000],\n",
        "                         'multi_class': ['multinomial'],\n",
        "                         'penalty': ['l1', 'l2'], 'solver': ['saga']},\n",
        "             pre_dispatch='2*n_jobs', refit=True, return_train_score=False,\n",
        "             scoring='accuracy', verbose=10)Fitting 5 folds for each of 14 candidates, totalling 70 fits\n",
        "[Parallel(n_jobs=4)]: Using backend LokyBackend with 4 concurrent workers.\n",
        "[Parallel(n_jobs=4)]: Done   5 tasks      | elapsed: 29.4min\n"
      ]
    },
    {
      "cell_type": "code",
      "metadata": {
        "id": "8GpHZO2W-3Ic",
        "colab_type": "code",
        "colab": {}
      },
      "source": [
        "GridSearchCV(cv=StratifiedKFold(n_splits=5, random_state=1001, shuffle=True),\n",
        "             error_score=nan,\n",
        "             estimator=LogisticRegression(C=1.0, class_weight=None, dual=False,\n",
        "                                          fit_intercept=True,\n",
        "                                          intercept_scaling=1, l1_ratio=None,\n",
        "                                          max_iter=100, multi_class='auto',\n",
        "                                          n_jobs=None, penalty='l2',\n",
        "                                          random_state=None, solver='lbfgs',\n",
        "                                          tol=0.0001, verbose=0,\n",
        "                                          warm_start=False),\n",
        "             iid='deprecated', n_jobs=4,\n",
        "             param_grid={'C': [0.001, 0.01, 0.1, 1, 10, 100, 1000],\n",
        "                         'multi_class': ['multinomial'],\n",
        "                         'penalty': ['l1', 'l2'], 'solver': ['saga']},\n",
        "             pre_dispatch='2*n_jobs', refit=True, return_train_score=False,\n",
        "             scoring='accuracy', verbose=10)"
      ],
      "execution_count": 0,
      "outputs": []
    },
    {
      "cell_type": "code",
      "metadata": {
        "id": "QKFmuuWUtLq4",
        "colab_type": "code",
        "colab": {}
      },
      "source": [
        "# Best Parameter after grid search gives penalty as l2 and C=1.0\n",
        "log_best=LogisticRegression(C=1.0, class_weight=None, dual=False,\n",
        "                                          fit_intercept=True,\n",
        "                                          intercept_scaling=1, l1_ratio=None,\n",
        "                                          max_iter=100, multi_class='auto',\n",
        "                                          n_jobs=None, penalty='l2',\n",
        "                                          random_state=None, solver='lbfgs',\n",
        "                                          tol=0.0001, verbose=0,\n",
        "                                          warm_start=False)"
      ],
      "execution_count": 0,
      "outputs": []
    },
    {
      "cell_type": "code",
      "metadata": {
        "id": "cdZTekiEtb_f",
        "colab_type": "code",
        "outputId": "7687d64b-99ca-4090-9545-f8032178ea99",
        "colab": {
          "base_uri": "https://localhost:8080/",
          "height": 248
        }
      },
      "source": [
        "log_best.fit(X_train,y_train)"
      ],
      "execution_count": 0,
      "outputs": [
        {
          "output_type": "stream",
          "text": [
            "/usr/local/lib/python3.6/dist-packages/sklearn/linear_model/_logistic.py:940: ConvergenceWarning: lbfgs failed to converge (status=1):\n",
            "STOP: TOTAL NO. of ITERATIONS REACHED LIMIT.\n",
            "\n",
            "Increase the number of iterations (max_iter) or scale the data as shown in:\n",
            "    https://scikit-learn.org/stable/modules/preprocessing.html\n",
            "Please also refer to the documentation for alternative solver options:\n",
            "    https://scikit-learn.org/stable/modules/linear_model.html#logistic-regression\n",
            "  extra_warning_msg=_LOGISTIC_SOLVER_CONVERGENCE_MSG)\n"
          ],
          "name": "stderr"
        },
        {
          "output_type": "execute_result",
          "data": {
            "text/plain": [
              "LogisticRegression(C=1.0, class_weight=None, dual=False, fit_intercept=True,\n",
              "                   intercept_scaling=1, l1_ratio=None, max_iter=100,\n",
              "                   multi_class='auto', n_jobs=None, penalty='l2',\n",
              "                   random_state=None, solver='lbfgs', tol=0.0001, verbose=0,\n",
              "                   warm_start=False)"
            ]
          },
          "metadata": {
            "tags": []
          },
          "execution_count": 25
        }
      ]
    },
    {
      "cell_type": "code",
      "metadata": {
        "id": "FzjJYHMYtVo2",
        "colab_type": "code",
        "outputId": "02a69f21-72f1-4972-97fb-8d427cfdeec7",
        "colab": {
          "base_uri": "https://localhost:8080/",
          "height": 35
        }
      },
      "source": [
        "log_best.predict(X_test)"
      ],
      "execution_count": 0,
      "outputs": [
        {
          "output_type": "execute_result",
          "data": {
            "text/plain": [
              "array(['9', '2', '6', ..., '4', '5', '6'], dtype=object)"
            ]
          },
          "metadata": {
            "tags": []
          },
          "execution_count": 26
        }
      ]
    },
    {
      "cell_type": "code",
      "metadata": {
        "id": "ExajXs34vWDi",
        "colab_type": "code",
        "outputId": "db168081-d11e-4851-cadc-5cd5b79d0163",
        "colab": {
          "base_uri": "https://localhost:8080/",
          "height": 106
        }
      },
      "source": [
        "log_best.score"
      ],
      "execution_count": 0,
      "outputs": [
        {
          "output_type": "execute_result",
          "data": {
            "text/plain": [
              "<bound method ClassifierMixin.score of LogisticRegression(C=1.0, class_weight=None, dual=False, fit_intercept=True,\n",
              "                   intercept_scaling=1, l1_ratio=None, max_iter=100,\n",
              "                   multi_class='auto', n_jobs=None, penalty='l2',\n",
              "                   random_state=None, solver='lbfgs', tol=0.0001, verbose=0,\n",
              "                   warm_start=False)>"
            ]
          },
          "metadata": {
            "tags": []
          },
          "execution_count": 27
        }
      ]
    },
    {
      "cell_type": "markdown",
      "metadata": {
        "id": "l0KLyM1FSIvO",
        "colab_type": "text"
      },
      "source": [
        " Report your training and test loss from above"
      ]
    },
    {
      "cell_type": "code",
      "metadata": {
        "id": "0ScOMIE0wkGX",
        "colab_type": "code",
        "outputId": "14d666ef-d8ee-4bbb-c598-c35bef5c7278",
        "colab": {
          "base_uri": "https://localhost:8080/",
          "height": 35
        }
      },
      "source": [
        "score_train = log_best.score(X_train, y_train)\n",
        "print(score_train)"
      ],
      "execution_count": 0,
      "outputs": [
        {
          "output_type": "stream",
          "text": [
            "0.9334476190476191\n"
          ],
          "name": "stdout"
        }
      ]
    },
    {
      "cell_type": "markdown",
      "metadata": {
        "id": "IZyp1rMpTIH0",
        "colab_type": "text"
      },
      "source": [
        "The training score/accuracy with l2 penalty and C=1.0 is 0.9334476190476191\n",
        "\n"
      ]
    },
    {
      "cell_type": "code",
      "metadata": {
        "id": "CzRg68DctZEw",
        "colab_type": "code",
        "outputId": "7ef9e5d4-0288-4e89-aeef-10fe244c674e",
        "colab": {
          "base_uri": "https://localhost:8080/",
          "height": 35
        }
      },
      "source": [
        "score = log_best.score(X_test, y_test)\n",
        "print(score)"
      ],
      "execution_count": 0,
      "outputs": [
        {
          "output_type": "stream",
          "text": [
            "0.9280571428571428\n"
          ],
          "name": "stdout"
        }
      ]
    },
    {
      "cell_type": "markdown",
      "metadata": {
        "id": "-Tk5oN4FTV9j",
        "colab_type": "text"
      },
      "source": [
        "The test score/accuracy with l2 penalty and C=1.0 is 0.9280571428571428\n",
        "\n"
      ]
    },
    {
      "cell_type": "markdown",
      "metadata": {
        "id": "PERsg7y6V-TG",
        "colab_type": "text"
      },
      "source": [
        "Choose an l1 regularizer (penalty), and see if you can get a sparse solution with almost as good accuracy. "
      ]
    },
    {
      "cell_type": "code",
      "metadata": {
        "id": "a1pQt3FGuVeZ",
        "colab_type": "code",
        "colab": {}
      },
      "source": [
        "# Using penalty=l1 and C=1.0\n",
        "\n",
        "log_best_l1=LogisticRegression(C=1.0, class_weight=None, dual=False,\n",
        "                                          fit_intercept=True,\n",
        "                                          intercept_scaling=1, l1_ratio=None,\n",
        "                                          max_iter=100, multi_class='auto',\n",
        "                                          n_jobs=None, penalty='l1',\n",
        "                                          random_state=None, solver='saga',\n",
        "                                          tol=0.0001, verbose=0,\n",
        "                                          warm_start=False)"
      ],
      "execution_count": 0,
      "outputs": []
    },
    {
      "cell_type": "markdown",
      "metadata": {
        "id": "4yuMs92BV9i1",
        "colab_type": "text"
      },
      "source": [
        ""
      ]
    },
    {
      "cell_type": "code",
      "metadata": {
        "id": "ZG5GV9Hzxvvh",
        "colab_type": "code",
        "outputId": "abef05d0-3284-4be1-f772-f1bc673497f2",
        "colab": {
          "base_uri": "https://localhost:8080/",
          "height": 141
        }
      },
      "source": [
        "log_best_l1.fit(X_train,y_train) # Fit the model "
      ],
      "execution_count": 0,
      "outputs": [
        {
          "output_type": "stream",
          "text": [
            "/usr/local/lib/python3.6/dist-packages/sklearn/linear_model/_sag.py:330: ConvergenceWarning: The max_iter was reached which means the coef_ did not converge\n",
            "  \"the coef_ did not converge\", ConvergenceWarning)\n"
          ],
          "name": "stderr"
        },
        {
          "output_type": "execute_result",
          "data": {
            "text/plain": [
              "LogisticRegression(C=1.0, class_weight=None, dual=False, fit_intercept=True,\n",
              "                   intercept_scaling=1, l1_ratio=None, max_iter=100,\n",
              "                   multi_class='auto', n_jobs=None, penalty='l1',\n",
              "                   random_state=None, solver='saga', tol=0.0001, verbose=0,\n",
              "                   warm_start=False)"
            ]
          },
          "metadata": {
            "tags": []
          },
          "execution_count": 31
        }
      ]
    },
    {
      "cell_type": "code",
      "metadata": {
        "id": "nDPQzGJjdchA",
        "colab_type": "code",
        "colab": {
          "base_uri": "https://localhost:8080/",
          "height": 35
        },
        "outputId": "239fc45d-e8e5-47b8-9e85-077810e246be"
      },
      "source": [
        "log_best_l1.score(X_train,y_train)"
      ],
      "execution_count": 78,
      "outputs": [
        {
          "output_type": "execute_result",
          "data": {
            "text/plain": [
              "0.9377714285714286"
            ]
          },
          "metadata": {
            "tags": []
          },
          "execution_count": 78
        }
      ]
    },
    {
      "cell_type": "markdown",
      "metadata": {
        "id": "Xv_tVhVQW5Lw",
        "colab_type": "text"
      },
      "source": [
        "Training Score for Logistic Regression using Penalty = l1 is 0.9377714285714286"
      ]
    },
    {
      "cell_type": "code",
      "metadata": {
        "id": "qpAvrzwFx2cf",
        "colab_type": "code",
        "outputId": "06817752-544b-440c-c5b2-34c55315168c",
        "colab": {
          "base_uri": "https://localhost:8080/",
          "height": 35
        }
      },
      "source": [
        "log_best_l1.predict(X_test)"
      ],
      "execution_count": 0,
      "outputs": [
        {
          "output_type": "execute_result",
          "data": {
            "text/plain": [
              "array(['9', '2', '6', ..., '4', '5', '6'], dtype=object)"
            ]
          },
          "metadata": {
            "tags": []
          },
          "execution_count": 46
        }
      ]
    },
    {
      "cell_type": "code",
      "metadata": {
        "id": "jtE8krENBIrP",
        "colab_type": "code",
        "outputId": "64f39b16-62f2-46ea-cd3c-ce42cf681699",
        "colab": {
          "base_uri": "https://localhost:8080/",
          "height": 141
        }
      },
      "source": [
        "log_best_l1.coef_"
      ],
      "execution_count": 0,
      "outputs": [
        {
          "output_type": "execute_result",
          "data": {
            "text/plain": [
              "array([[0., 0., 0., ..., 0., 0., 0.],\n",
              "       [0., 0., 0., ..., 0., 0., 0.],\n",
              "       [0., 0., 0., ..., 0., 0., 0.],\n",
              "       ...,\n",
              "       [0., 0., 0., ..., 0., 0., 0.],\n",
              "       [0., 0., 0., ..., 0., 0., 0.],\n",
              "       [0., 0., 0., ..., 0., 0., 0.]])"
            ]
          },
          "metadata": {
            "tags": []
          },
          "execution_count": 48
        }
      ]
    },
    {
      "cell_type": "markdown",
      "metadata": {
        "id": "oTD3QXDMWCxs",
        "colab_type": "text"
      },
      "source": [
        "Test Score for Logistic Regression using Penalty = l1 is 0.9277142857142857"
      ]
    },
    {
      "cell_type": "code",
      "metadata": {
        "id": "9jnK8sSL-nOK",
        "colab_type": "code",
        "outputId": "7c2e4f47-56d5-47a6-85c7-c0f00187840f",
        "colab": {
          "base_uri": "https://localhost:8080/",
          "height": 35
        }
      },
      "source": [
        "log_best_l1.score(X_test,y_test)"
      ],
      "execution_count": 0,
      "outputs": [
        {
          "output_type": "execute_result",
          "data": {
            "text/plain": [
              "0.9277142857142857"
            ]
          },
          "metadata": {
            "tags": []
          },
          "execution_count": 47
        }
      ]
    },
    {
      "cell_type": "markdown",
      "metadata": {
        "id": "6sPxSIsQV685",
        "colab_type": "text"
      },
      "source": [
        ""
      ]
    },
    {
      "cell_type": "code",
      "metadata": {
        "id": "LEL3PE_BiHZi",
        "colab_type": "code",
        "outputId": "68213f79-4f7b-44dc-840c-a22ac3b7afc9",
        "colab": {
          "base_uri": "https://localhost:8080/",
          "height": 283
        }
      },
      "source": [
        "plt.figure(figsize=(20,4))\n",
        "for index, (image, label) in enumerate(zip(X_train[0:5], y_train[0:5])):\n",
        " plt.subplot(1, 5, index + 1)\n",
        " plt.imshow(np.reshape(image, (28,28)), cmap=plt.cm.gray)\n",
        " plt.title('Training: %s\\n' % label, fontsize = 20)"
      ],
      "execution_count": 0,
      "outputs": [
        {
          "output_type": "display_data",
          "data": {
            "image/png": "[encoded data removed]",
            "text/plain": [
              "<Figure size 1440x288 with 5 Axes>"
            ]
          },
          "metadata": {
            "tags": [],
            "needs_background": "light"
          }
        }
      ]
    },
    {
      "cell_type": "code",
      "metadata": {
        "id": "Jc98mW6uCHIh",
        "colab_type": "code",
        "colab": {}
      },
      "source": [
        "#logistic regression after decreasing the C value to 0.001 and using l1\n",
        "\n",
        "log_reg_C1=LogisticRegression(C=0.001, class_weight=None, dual=False, fit_intercept=True,\n",
        "                   intercept_scaling=1, l1_ratio=None, max_iter=100,\n",
        "                   multi_class='multinomial', n_jobs=None, penalty='l1',\n",
        "                   random_state=None, solver='saga', tol=0.0001, verbose=0,\n",
        "                   warm_start=False)"
      ],
      "execution_count": 0,
      "outputs": []
    },
    {
      "cell_type": "code",
      "metadata": {
        "id": "oD2Kia-7vRT2",
        "colab_type": "code",
        "colab": {}
      },
      "source": [
        "#logistic regression after decreasing the C value to 0.0001\n",
        "\n",
        "log_reg_C2=LogisticRegression(C=0.0001, class_weight=None, dual=False, fit_intercept=True,\n",
        "                   intercept_scaling=1, l1_ratio=None, max_iter=100,\n",
        "                   multi_class='multinomial', n_jobs=None, penalty='l1',\n",
        "                   random_state=None, solver='saga', tol=0.0001, verbose=0,\n",
        "                   warm_start=False)"
      ],
      "execution_count": 0,
      "outputs": []
    },
    {
      "cell_type": "code",
      "metadata": {
        "id": "M-38NUO0Z6kz",
        "colab_type": "code",
        "colab": {}
      },
      "source": [
        "#logistic regression after decreasing the C value to 0.005\n",
        "\n",
        "log_reg_C3=LogisticRegression(C=0.0001, class_weight=None, dual=False, fit_intercept=True,\n",
        "                   intercept_scaling=1, l1_ratio=None, max_iter=100,\n",
        "                   multi_class='multinomial', n_jobs=None, penalty='l1',\n",
        "                   random_state=None, solver='saga', tol=0.0001, verbose=0,\n",
        "                   warm_start=False)"
      ],
      "execution_count": 0,
      "outputs": []
    },
    {
      "cell_type": "code",
      "metadata": {
        "id": "0AfRvwW_Z_9C",
        "colab_type": "code",
        "colab": {
          "base_uri": "https://localhost:8080/",
          "height": 141
        },
        "outputId": "ff44e7d5-a943-4455-e268-e47308e87d2f"
      },
      "source": [
        "log_reg_C3.fit(X_train,y_train)"
      ],
      "execution_count": 88,
      "outputs": [
        {
          "output_type": "stream",
          "text": [
            "/usr/local/lib/python3.6/dist-packages/sklearn/linear_model/_sag.py:330: ConvergenceWarning: The max_iter was reached which means the coef_ did not converge\n",
            "  \"the coef_ did not converge\", ConvergenceWarning)\n"
          ],
          "name": "stderr"
        },
        {
          "output_type": "execute_result",
          "data": {
            "text/plain": [
              "LogisticRegression(C=0.0001, class_weight=None, dual=False, fit_intercept=True,\n",
              "                   intercept_scaling=1, l1_ratio=None, max_iter=100,\n",
              "                   multi_class='multinomial', n_jobs=None, penalty='l1',\n",
              "                   random_state=None, solver='saga', tol=0.0001, verbose=0,\n",
              "                   warm_start=False)"
            ]
          },
          "metadata": {
            "tags": []
          },
          "execution_count": 88
        }
      ]
    },
    {
      "cell_type": "markdown",
      "metadata": {
        "id": "b7xB23wpZ41T",
        "colab_type": "text"
      },
      "source": [
        ""
      ]
    },
    {
      "cell_type": "code",
      "metadata": {
        "id": "D3jJiLDmvYPR",
        "colab_type": "code",
        "outputId": "04a4da79-8637-45dd-e18a-529e750c649c",
        "colab": {
          "base_uri": "https://localhost:8080/",
          "height": 141
        }
      },
      "source": [
        "log_reg_C2.fit(X_train,y_train)"
      ],
      "execution_count": 0,
      "outputs": [
        {
          "output_type": "stream",
          "text": [
            "/usr/local/lib/python3.6/dist-packages/sklearn/linear_model/_sag.py:330: ConvergenceWarning: The max_iter was reached which means the coef_ did not converge\n",
            "  \"the coef_ did not converge\", ConvergenceWarning)\n"
          ],
          "name": "stderr"
        },
        {
          "output_type": "execute_result",
          "data": {
            "text/plain": [
              "LogisticRegression(C=0.0001, class_weight=None, dual=False, fit_intercept=True,\n",
              "                   intercept_scaling=1, l1_ratio=None, max_iter=100,\n",
              "                   multi_class='multinomial', n_jobs=None, penalty='l1',\n",
              "                   random_state=None, solver='saga', tol=0.0001, verbose=0,\n",
              "                   warm_start=False)"
            ]
          },
          "metadata": {
            "tags": []
          },
          "execution_count": 72
        }
      ]
    },
    {
      "cell_type": "code",
      "metadata": {
        "id": "4ksd2kC-bzoo",
        "colab_type": "code",
        "colab": {
          "base_uri": "https://localhost:8080/",
          "height": 35
        },
        "outputId": "2d55222b-0152-4690-8ade-2026fbed2d6c"
      },
      "source": [
        "log_reg_C3.score(X_train,y_train)"
      ],
      "execution_count": 89,
      "outputs": [
        {
          "output_type": "execute_result",
          "data": {
            "text/plain": [
              "0.9030476190476191"
            ]
          },
          "metadata": {
            "tags": []
          },
          "execution_count": 89
        }
      ]
    },
    {
      "cell_type": "code",
      "metadata": {
        "id": "vdNZTDaacIDS",
        "colab_type": "code",
        "colab": {
          "base_uri": "https://localhost:8080/",
          "height": 35
        },
        "outputId": "790f6a5e-916e-454e-cfdc-3d577e16d7f3"
      },
      "source": [
        "log_reg_C3.score(X_test,y_test)"
      ],
      "execution_count": 90,
      "outputs": [
        {
          "output_type": "execute_result",
          "data": {
            "text/plain": [
              "0.9098857142857143"
            ]
          },
          "metadata": {
            "tags": []
          },
          "execution_count": 90
        }
      ]
    },
    {
      "cell_type": "code",
      "metadata": {
        "id": "JYRzN0G-w028",
        "colab_type": "code",
        "outputId": "1ea8f5d7-14c6-4304-b21f-284ef287c39e",
        "colab": {
          "base_uri": "https://localhost:8080/",
          "height": 35
        }
      },
      "source": [
        "log_reg_C2.predict(X_test)"
      ],
      "execution_count": 0,
      "outputs": [
        {
          "output_type": "execute_result",
          "data": {
            "text/plain": [
              "array(['9', '2', '6', ..., '4', '5', '6'], dtype=object)"
            ]
          },
          "metadata": {
            "tags": []
          },
          "execution_count": 73
        }
      ]
    },
    {
      "cell_type": "markdown",
      "metadata": {
        "id": "vmWqQB4qXSjo",
        "colab_type": "text"
      },
      "source": [
        "When we make the model more sparse and try to decrease the value of C to 0.0001 we get training score of 0.9030476190476191"
      ]
    },
    {
      "cell_type": "code",
      "metadata": {
        "id": "iNcXlmK5w5Xb",
        "colab_type": "code",
        "outputId": "d0471aa6-d1f0-4e56-9726-7ff0e3097d4b",
        "colab": {
          "base_uri": "https://localhost:8080/",
          "height": 35
        }
      },
      "source": [
        "log_reg_C2.score(X_train,y_train) "
      ],
      "execution_count": 0,
      "outputs": [
        {
          "output_type": "execute_result",
          "data": {
            "text/plain": [
              "0.9030476190476191"
            ]
          },
          "metadata": {
            "tags": []
          },
          "execution_count": 74
        }
      ]
    },
    {
      "cell_type": "markdown",
      "metadata": {
        "id": "oejwsgfHYoju",
        "colab_type": "text"
      },
      "source": [
        "When we make the model more sparse and try to decrease the value of C to 0.0001 we get testing score of 0.9098285714285714"
      ]
    },
    {
      "cell_type": "code",
      "metadata": {
        "id": "S7iZ7iWww_0U",
        "colab_type": "code",
        "outputId": "946cef9a-3b68-46c8-bf24-9509ccfb8988",
        "colab": {
          "base_uri": "https://localhost:8080/",
          "height": 35
        }
      },
      "source": [
        "log_reg_C2.score(X_test,y_test)"
      ],
      "execution_count": 0,
      "outputs": [
        {
          "output_type": "execute_result",
          "data": {
            "text/plain": [
              "0.9098285714285714"
            ]
          },
          "metadata": {
            "tags": []
          },
          "execution_count": 75
        }
      ]
    },
    {
      "cell_type": "code",
      "metadata": {
        "id": "gT7iWU6HGrck",
        "colab_type": "code",
        "outputId": "edaa4a32-4812-47cb-ad47-94522581789c",
        "colab": {
          "base_uri": "https://localhost:8080/",
          "height": 141
        }
      },
      "source": [
        "log_reg_C1.fit(X_train,y_train) # Penalty = L1 and C = 0.001"
      ],
      "execution_count": 80,
      "outputs": [
        {
          "output_type": "stream",
          "text": [
            "/usr/local/lib/python3.6/dist-packages/sklearn/linear_model/_sag.py:330: ConvergenceWarning: The max_iter was reached which means the coef_ did not converge\n",
            "  \"the coef_ did not converge\", ConvergenceWarning)\n"
          ],
          "name": "stderr"
        },
        {
          "output_type": "execute_result",
          "data": {
            "text/plain": [
              "LogisticRegression(C=0.001, class_weight=None, dual=False, fit_intercept=True,\n",
              "                   intercept_scaling=1, l1_ratio=None, max_iter=100,\n",
              "                   multi_class='multinomial', n_jobs=None, penalty='l1',\n",
              "                   random_state=None, solver='saga', tol=0.0001, verbose=0,\n",
              "                   warm_start=False)"
            ]
          },
          "metadata": {
            "tags": []
          },
          "execution_count": 80
        }
      ]
    },
    {
      "cell_type": "code",
      "metadata": {
        "id": "d5pweBJPG0rJ",
        "colab_type": "code",
        "colab": {}
      },
      "source": [
        "predictions_C1=log_reg_C1.predict(X_test)"
      ],
      "execution_count": 0,
      "outputs": []
    },
    {
      "cell_type": "markdown",
      "metadata": {
        "id": "3bS5u7u4ZcbY",
        "colab_type": "text"
      },
      "source": [
        "The training score for C=0.001 is 0.9292761904761905 and penalty is l1"
      ]
    },
    {
      "cell_type": "code",
      "metadata": {
        "id": "ATY6LkVGZRuV",
        "colab_type": "code",
        "colab": {
          "base_uri": "https://localhost:8080/",
          "height": 35
        },
        "outputId": "2b8fceb6-dd03-480f-ddc0-ca0792d09cf4"
      },
      "source": [
        "log_reg_C1.score(X_train,y_train)"
      ],
      "execution_count": 83,
      "outputs": [
        {
          "output_type": "execute_result",
          "data": {
            "text/plain": [
              "0.9292761904761905"
            ]
          },
          "metadata": {
            "tags": []
          },
          "execution_count": 83
        }
      ]
    },
    {
      "cell_type": "markdown",
      "metadata": {
        "id": "Fyw1YuDkZCxk",
        "colab_type": "text"
      },
      "source": [
        "The testing score for C=0.001 is 0.9271428571428572 and penalty is l1"
      ]
    },
    {
      "cell_type": "code",
      "metadata": {
        "id": "bQMuRMHeIkjS",
        "colab_type": "code",
        "outputId": "d107f1d1-44f0-4177-8762-3ce4022a8378",
        "colab": {
          "base_uri": "https://localhost:8080/",
          "height": 35
        }
      },
      "source": [
        "log_reg_C1.score(X_test,y_test)"
      ],
      "execution_count": 81,
      "outputs": [
        {
          "output_type": "execute_result",
          "data": {
            "text/plain": [
              "0.9271428571428572"
            ]
          },
          "metadata": {
            "tags": []
          },
          "execution_count": 81
        }
      ]
    },
    {
      "cell_type": "code",
      "metadata": {
        "id": "GvtfYm3JIvBt",
        "colab_type": "code",
        "colab": {
          "base_uri": "https://localhost:8080/",
          "height": 319
        },
        "outputId": "3ebc7f47-a152-4634-d9de-c696ddd048e9"
      },
      "source": [
        "print(classification_report(y_test,predictions_C1))"
      ],
      "execution_count": 86,
      "outputs": [
        {
          "output_type": "stream",
          "text": [
            "              precision    recall  f1-score   support\n",
            "\n",
            "           0       0.96      0.98      0.97      1719\n",
            "           1       0.96      0.98      0.97      1929\n",
            "           2       0.93      0.90      0.91      1787\n",
            "           3       0.91      0.91      0.91      1790\n",
            "           4       0.94      0.94      0.94      1735\n",
            "           5       0.90      0.86      0.88      1574\n",
            "           6       0.95      0.96      0.95      1672\n",
            "           7       0.93      0.94      0.93      1844\n",
            "           8       0.88      0.89      0.88      1721\n",
            "           9       0.91      0.91      0.91      1729\n",
            "\n",
            "    accuracy                           0.93     17500\n",
            "   macro avg       0.93      0.93      0.93     17500\n",
            "weighted avg       0.93      0.93      0.93     17500\n",
            "\n"
          ],
          "name": "stdout"
        }
      ]
    },
    {
      "cell_type": "markdown",
      "metadata": {
        "id": "o-3HVZMzatQW",
        "colab_type": "text"
      },
      "source": [
        "Note that in Logistic Regression, the coeﬃcients returned (i.e., the β’s) are the same dimension as the data. Therefore we can pretend that the coeﬃcients of the solution are an image of the same dimension, and plot it. Do this for the 10 sets of coeﬃcients that correspond to the 10 classes. You should observe that, at least for the sparse solutions, these “kind of” look like the digits they are classifying."
      ]
    },
    {
      "cell_type": "code",
      "metadata": {
        "id": "C_HNUFVXKJwJ",
        "colab_type": "code",
        "colab": {}
      },
      "source": [
        "image_coeff = log_reg_C.coef_"
      ],
      "execution_count": 0,
      "outputs": []
    },
    {
      "cell_type": "code",
      "metadata": {
        "id": "hEBoSNfspQ-5",
        "colab_type": "code",
        "outputId": "c30efc2f-1785-49cb-f703-b247ad166dc7",
        "colab": {
          "base_uri": "https://localhost:8080/",
          "height": 141
        }
      },
      "source": [
        "image_coeff"
      ],
      "execution_count": 0,
      "outputs": [
        {
          "output_type": "execute_result",
          "data": {
            "text/plain": [
              "array([[0., 0., 0., ..., 0., 0., 0.],\n",
              "       [0., 0., 0., ..., 0., 0., 0.],\n",
              "       [0., 0., 0., ..., 0., 0., 0.],\n",
              "       ...,\n",
              "       [0., 0., 0., ..., 0., 0., 0.],\n",
              "       [0., 0., 0., ..., 0., 0., 0.],\n",
              "       [0., 0., 0., ..., 0., 0., 0.]])"
            ]
          },
          "metadata": {
            "tags": []
          },
          "execution_count": 61
        }
      ]
    },
    {
      "cell_type": "code",
      "metadata": {
        "id": "K-g6C8nHmj2j",
        "colab_type": "code",
        "outputId": "6caaefc5-b5f4-49b8-a58a-5657fd8acf34",
        "colab": {
          "base_uri": "https://localhost:8080/",
          "height": 35
        }
      },
      "source": [
        "image_coeff.shape"
      ],
      "execution_count": 0,
      "outputs": [
        {
          "output_type": "execute_result",
          "data": {
            "text/plain": [
              "(10, 784)"
            ]
          },
          "metadata": {
            "tags": []
          },
          "execution_count": 41
        }
      ]
    },
    {
      "cell_type": "code",
      "metadata": {
        "id": "45I2lWMFnOVC",
        "colab_type": "code",
        "outputId": "d6ea6452-27b8-4892-d19e-cbc6f7fdcf5a",
        "colab": {
          "base_uri": "https://localhost:8080/",
          "height": 167
        }
      },
      "source": [
        "# Plotting the image using the Logistic Regression Coefficient\n",
        "plt.figure(figsize=(50,10))\n",
        "for index, image in enumerate((image_coeff[0:10])):\n",
        " plt.subplot(1, 10, index + 1)\n",
        " plt.imshow(np.reshape(image, (28,28)), cmap=plt.cm.gray)\n"
      ],
      "execution_count": 0,
      "outputs": [
        {
          "output_type": "display_data",
          "data": {
            "image/png": "[encoded data removed]",
            "text/plain": [
              "<Figure size 3600x720 with 10 Axes>"
            ]
          },
          "metadata": {
            "tags": [],
            "needs_background": "light"
          }
        }
      ]
    },
    {
      "cell_type": "code",
      "metadata": {
        "id": "4sbuKpCKnPen",
        "colab_type": "code",
        "colab": {}
      },
      "source": [
        ""
      ],
      "execution_count": 0,
      "outputs": []
    }
  ]
}