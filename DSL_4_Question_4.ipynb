{
  "nbformat": 4,
  "nbformat_minor": 0,
  "metadata": {
    "kernelspec": {
      "display_name": "Python 3",
      "language": "python",
      "name": "python3"
    },
    "colab": {
      "name": "DSL_4_Question_4.ipynb",
      "provenance": []
    }
  },
  "cells": [
    {
      "cell_type": "markdown",
      "metadata": {
        "id": "MgVAM9gfKeV5",
        "colab_type": "text"
      },
      "source": [
        "Problem 4: Revisiting Logistic Regression and CIFAR-10.\n",
        "As before, we’ll throw the kitchen sink of classical ML (i.e. pre-deep learning) on CIFAR-10. Keep\n",
        "in mind that CIFAR-10 is a few times larger.\n",
        "\n",
        "• What is the best accuracy you can get on the test data, by tuning Random Forests? What\n",
        "are the hyperparameters of your best model?\n",
        "\n",
        "• What is the best accuracy you can get on the test data, by tuning any model including\n",
        "Gradient boosting? What are the hyperparameters of your best model?\n",
        "\n",
        "\n",
        "We used XGBoost and Random forest Classifier and optimized the hyperparameters using Bayes Optimization.\n",
        "\n",
        "** With XGBOOST **\n",
        "\n",
        "Testing Accuracy= 0.5148\n",
        "\n",
        "Model=model=XGBClassifier(base_score=0.5, booster='gbtree', colsample_bylevel=.8015579071911014,\n",
        "              colsample_bynode=1, colsample_bytree=0.44364889457651413, gamma=0,\n",
        "              learning_rate=.5313540347564155, max_delta_step=0, max_depth=7,\n",
        "              min_child_weight=7, missing=None, n_estimators=266, n_jobs=1,\n",
        "              nthread=None, objective='multi:softmax', random_state=42,\n",
        "              reg_alpha=0, reg_lambda=352, scale_pos_weight=1, seed=None,\n",
        "              silent=None, subsample=1, verbosity=1)\n",
        "\n",
        "\n",
        "** With Random Forest Classifier **\n",
        "\n",
        "Testing Accuracy= 0.4436\n",
        "\n",
        "RandomForestClassifier(bootstrap=True, ccp_alpha=0.0,\n",
        "                                               class_weight=None,\n",
        "                                               criterion='gini', max_depth=18,\n",
        "                                               max_features=24,\n",
        "                                               max_leaf_nodes=None,\n",
        "                                               max_samples=None,\n",
        "                                               min_impurity_decrease=0.0,\n",
        "                                               min_impurity_split=None,\n",
        "                                               min_samples_leaf=1,\n",
        "                                               min_samples_split=...\n",
        "                                               n_estimators=100, n_jobs=None,\n",
        "                                               oob_score=False,\n",
        "                                               random_state=None, verbose=0,\n",
        "                                               warm_start=False)\n",
        "\n",
        "\n"
      ]
    },
    {
      "cell_type": "code",
      "metadata": {
        "id": "eoGqogkcKbkb",
        "colab_type": "code",
        "colab": {}
      },
      "source": [
        "import sklearn.datasets\n",
        "Data=sklearn.datasets.fetch_openml(\"CIFAR_10_small\")\n",
        "import numpy as np\n",
        "import matplotlib.pyplot as plt\n",
        "Im_data=Data[\"data\"]\n",
        "Y=Data[\"target\"]"
      ],
      "execution_count": 0,
      "outputs": []
    },
    {
      "cell_type": "code",
      "metadata": {
        "id": "T57AMYOFKbkg",
        "colab_type": "code",
        "outputId": "ddd4583a-c6aa-432f-872e-ddc8724089f3",
        "colab": {
          "base_uri": "https://localhost:8080/",
          "height": 337
        }
      },
      "source": [
        "import numpy as np\n",
        "import matplotlib.pyplot as plt\n",
        "from six.moves import cPickle \n",
        "\n",
        "#f = open('data/cifar10/cifar-10-batches-py/data_batch_1', 'rb')\n",
        "#datadict = cPickle.load(f,encoding='latin1')\n",
        "#f.close()\n",
        "X = Im_data \n",
        "Y = Data['target']\n",
        "X = X.reshape(20000, 3, 32, 32).transpose(0,2,3,1).astype(\"uint8\")\n",
        "Y = np.array(Y)\n",
        "\n",
        "#Visualizing CIFAR 10\n",
        "fig, axes1 = plt.subplots(5,5,figsize=(5,5))\n",
        "for j in range(5):\n",
        "    for k in range(5):\n",
        "        i = np.random.choice(range(len(X)))\n",
        "        axes1[j][k].set_axis_off()\n",
        "        axes1[j][k].imshow(X[i:i+1][0])\n",
        "print(i)\n",
        "print(X.shape)"
      ],
      "execution_count": 0,
      "outputs": [
        {
          "output_type": "stream",
          "text": [
            "16218\n",
            "(20000, 32, 32, 3)\n"
          ],
          "name": "stdout"
        },
        {
          "output_type": "display_data",
          "data": {
            "image/png": "[encoded data removed]",
            "text/plain": [
              "<Figure size 360x360 with 25 Axes>"
            ]
          },
          "metadata": {
            "tags": [],
            "needs_background": "light"
          }
        }
      ]
    },
    {
      "cell_type": "code",
      "metadata": {
        "id": "CPjrz9kkKbkk",
        "colab_type": "code",
        "colab": {}
      },
      "source": [
        "from sklearn.model_selection import train_test_split\n",
        "X_train, X_test, Y_train, Y_test = train_test_split(Im_data, Y, test_size=0.25, random_state=42)"
      ],
      "execution_count": 0,
      "outputs": []
    },
    {
      "cell_type": "code",
      "metadata": {
        "id": "O8Awu4gwKbkm",
        "colab_type": "code",
        "colab": {}
      },
      "source": [
        "import pandas as pd\n",
        "import numpy as np\n",
        "import seaborn as sns\n",
        "import matplotlib.pyplot as plt\n",
        "import math\n",
        "from xgboost import XGBClassifier, plot_tree, plot_importance\n",
        "from sklearn.ensemble import ExtraTreesClassifier, RandomForestClassifier,VotingClassifier,AdaBoostClassifier,GradientBoostingClassifier\n",
        "import itertools"
      ],
      "execution_count": 0,
      "outputs": []
    },
    {
      "cell_type": "code",
      "metadata": {
        "id": "2nigsiIYKbkp",
        "colab_type": "code",
        "colab": {}
      },
      "source": [
        "from xgboost import XGBClassifier\n",
        "from sklearn.metrics import accuracy_score\n",
        "from sklearn.model_selection import train_test_split\n",
        "from sklearn.model_selection import GridSearchCV,cross_validate\n",
        "from sklearn.metrics import roc_curve, auc, recall_score, precision_score, roc_auc_score\n",
        "from sklearn import model_selection\n",
        "from sklearn.linear_model import LogisticRegression\n",
        "from sklearn.tree import DecisionTreeClassifier\n",
        "from sklearn.neighbors import KNeighborsClassifier\n",
        "from sklearn.discriminant_analysis import LinearDiscriminantAnalysis\n",
        "from sklearn.naive_bayes import GaussianNB\n",
        "from sklearn.svm import SVC\n",
        "#import lightgbm as lgb"
      ],
      "execution_count": 0,
      "outputs": []
    },
    {
      "cell_type": "code",
      "metadata": {
        "id": "vuRwNAnyKbkr",
        "colab_type": "code",
        "outputId": "67c6b6f7-6b7b-44a1-ef19-441a232d3a2b",
        "colab": {
          "base_uri": "https://localhost:8080/",
          "height": 156
        }
      },
      "source": [
        "pip install scikit-optimize"
      ],
      "execution_count": 0,
      "outputs": [
        {
          "output_type": "stream",
          "text": [
            "Requirement already satisfied: scikit-optimize in /usr/local/lib/python3.6/dist-packages (0.7.4)\n",
            "Requirement already satisfied: joblib>=0.11 in /usr/local/lib/python3.6/dist-packages (from scikit-optimize) (0.14.1)\n",
            "Requirement already satisfied: pyaml>=16.9 in /usr/local/lib/python3.6/dist-packages (from scikit-optimize) (20.4.0)\n",
            "Requirement already satisfied: scikit-learn>=0.19.1 in /usr/local/lib/python3.6/dist-packages (from scikit-optimize) (0.22.2.post1)\n",
            "Requirement already satisfied: numpy>=1.11.0 in /usr/local/lib/python3.6/dist-packages (from scikit-optimize) (1.18.2)\n",
            "Requirement already satisfied: scipy>=0.18.0 in /usr/local/lib/python3.6/dist-packages (from scikit-optimize) (1.4.1)\n",
            "Requirement already satisfied: PyYAML in /usr/local/lib/python3.6/dist-packages (from pyaml>=16.9->scikit-optimize) (3.13)\n"
          ],
          "name": "stdout"
        }
      ]
    },
    {
      "cell_type": "code",
      "metadata": {
        "id": "6HM7J8dNKbku",
        "colab_type": "code",
        "colab": {}
      },
      "source": [
        "import xgboost as xgb\n",
        "#import lightgbm as lgb\n",
        "from skopt import BayesSearchCV\n",
        "from sklearn.model_selection import StratifiedKFold\n",
        "\n",
        "# SETTINGS - CHANGE THESE TO GET SOMETHING MEANINGFUL\n",
        "ITERATIONS = 50 # 1000\n",
        "TRAINING_SIZE = 100000 # 20000000\n",
        "TEST_SIZE = 25000\n",
        "\n",
        "\n",
        "# Classifier\n",
        "bayes_cv_tuner = BayesSearchCV(\n",
        "    estimator = xgb.XGBClassifier(\n",
        "        n_jobs = 1,\n",
        "        objective = \"multi:softmax\",\n",
        "        eval_metric = 'merror',\n",
        "        silent=1,\n",
        "        tree_method='approx',\n",
        "        num_class=10\n",
        "    ),\n",
        "    search_spaces = {\n",
        "        'learning_rate': (0.01,1),\n",
        "        'min_child_weight': (1,10),\n",
        "        'max_depth': np.arange(4,15),\n",
        "        #'max_delta_step': np.arange(1,10),\n",
        "        #'subsample': (0.01, 1.0, 'uniform'),\n",
        "        'colsample_bytree': (0.01,1),\n",
        "        'colsample_bylevel': (0.01,1),\n",
        "        'reg_lambda': (1, 1000, 'log-uniform'),\n",
        "        #'reg_alpha': (1, 1.0, 'log-uniform'),\n",
        "        #'gamma': (0,1),\n",
        "        #'min_child_weight': (1, 10),\n",
        "        'n_estimators': (100,500),\n",
        "         #'max_features': np.arange(1,13),\n",
        "         #'min_samples_split':np.arange(1,10),\n",
        "        #'scale_pos_weight': (1, 200, 'uniform')\n",
        "    }, \n",
        "    scoring = 'accuracy',\n",
        "    cv = StratifiedKFold(\n",
        "        n_splits=3,\n",
        "        shuffle=True,\n",
        "        random_state=42\n",
        "    ),\n",
        "    #n_jobs = 3,\n",
        "    n_iter = ITERATIONS,   \n",
        "    verbose = 0,\n",
        "    refit = True,\n",
        "    random_state = 42\n",
        ")\n",
        "\n",
        "def status_print(optim_result):\n",
        "    \"\"\"Status callback durring bayesian hyperparameter search\"\"\"\n",
        "    \n",
        "    # Get all the models tested so far in DataFrame format\n",
        "    all_models = pd.DataFrame(bayes_cv_tuner.cv_results_)    \n",
        "    \n",
        "    # Get current parameters and the best parameters    \n",
        "    best_params = pd.Series(bayes_cv_tuner.best_params_)\n",
        "    print('Model #{}\\nBest ROC-AUC: {}\\nBest params: {}\\n'.format(\n",
        "        len(all_models),\n",
        "        np.round(bayes_cv_tuner.best_score_, 4),\n",
        "        bayes_cv_tuner.best_params_\n",
        "    ))\n",
        "    \n",
        "    # Save all model results\n",
        "    clf_name = bayes_cv_tuner.estimator.__class__.__name__\n",
        "    all_models.to_csv(clf_name+\"_cv_results.csv\")"
      ],
      "execution_count": 0,
      "outputs": []
    },
    {
      "cell_type": "code",
      "metadata": {
        "id": "luWYMThcKbkx",
        "colab_type": "code",
        "colab": {}
      },
      "source": [
        "bayes_cv_tuner.fit(X_train,Y_train,callback=status_print)"
      ],
      "execution_count": 0,
      "outputs": []
    },
    {
      "cell_type": "code",
      "metadata": {
        "id": "rnlc_Bm_Kbkz",
        "colab_type": "code",
        "colab": {}
      },
      "source": [
        "model=XGBClassifier(base_score=0.5, booster='gbtree', colsample_bylevel=.8015579071911014,\n",
        "              colsample_bynode=1, colsample_bytree=0.44364889457651413, gamma=0,\n",
        "              learning_rate=.5313540347564155, max_delta_step=0, max_depth=7,\n",
        "              min_child_weight=7, missing=None, n_estimators=266, n_jobs=1,\n",
        "              nthread=None, objective='multi:softmax', random_state=42,\n",
        "              reg_alpha=0, reg_lambda=352, scale_pos_weight=1, seed=None,\n",
        "              silent=None, subsample=1, verbosity=1)\n"
      ],
      "execution_count": 0,
      "outputs": []
    },
    {
      "cell_type": "code",
      "metadata": {
        "id": "692Bd6OxKbk1",
        "colab_type": "code",
        "outputId": "3cb6966b-ba25-45bf-b9b2-2ffd463688f6",
        "colab": {}
      },
      "source": [
        "model.fit(X_train,Y_train)"
      ],
      "execution_count": 0,
      "outputs": [
        {
          "output_type": "execute_result",
          "data": {
            "text/plain": [
              "XGBClassifier(base_score=0.5, booster='gbtree',\n",
              "              colsample_bylevel=0.8015579071911014, colsample_bynode=1,\n",
              "              colsample_bytree=0.44364889457651413, gamma=0,\n",
              "              learning_rate=0.5313540347564155, max_delta_step=0, max_depth=7,\n",
              "              min_child_weight=7, missing=None, n_estimators=266, n_jobs=1,\n",
              "              nthread=None, objective='multi:softprob', random_state=42,\n",
              "              reg_alpha=0, reg_lambda=352, scale_pos_weight=1, seed=None,\n",
              "              silent=None, subsample=1, verbosity=1)"
            ]
          },
          "metadata": {
            "tags": []
          },
          "execution_count": 33
        }
      ]
    },
    {
      "cell_type": "code",
      "metadata": {
        "id": "GrJKdsZnKbk5",
        "colab_type": "code",
        "colab": {}
      },
      "source": [
        "Y_pred=model.predict(X_test)"
      ],
      "execution_count": 0,
      "outputs": []
    },
    {
      "cell_type": "code",
      "metadata": {
        "id": "6PVHvY83Kbk7",
        "colab_type": "code",
        "colab": {}
      },
      "source": [
        "Test_Error=accuracy_score(Y_test,Y_pred)"
      ],
      "execution_count": 0,
      "outputs": []
    },
    {
      "cell_type": "code",
      "metadata": {
        "id": "7uUNfITuKblA",
        "colab_type": "code",
        "outputId": "68a42b3e-f718-4b50-fea2-95d9701803e5",
        "colab": {}
      },
      "source": [
        "Test_Error"
      ],
      "execution_count": 0,
      "outputs": [
        {
          "output_type": "execute_result",
          "data": {
            "text/plain": [
              "0.5148"
            ]
          },
          "metadata": {
            "tags": []
          },
          "execution_count": 41
        }
      ]
    },
    {
      "cell_type": "code",
      "metadata": {
        "id": "eWmG05S2KblC",
        "colab_type": "code",
        "colab": {}
      },
      "source": [
        "def Avg_train_score(model,x,y,cv):\n",
        "  score=cross_validate(model,x,y,scoring=\"accuracy\", cv=cv)\n",
        "  return(score[\"test_score\"].mean())"
      ],
      "execution_count": 0,
      "outputs": []
    },
    {
      "cell_type": "code",
      "metadata": {
        "id": "shxQU79TKblF",
        "colab_type": "code",
        "colab": {}
      },
      "source": [
        "Avg_training_score=Avg_train_score(model,X_train,Y_train,7)"
      ],
      "execution_count": 0,
      "outputs": []
    },
    {
      "cell_type": "code",
      "metadata": {
        "id": "JId6Po4NKblH",
        "colab_type": "code",
        "outputId": "9d83d45f-4981-4ce8-903b-453683107c8c",
        "colab": {}
      },
      "source": [
        "Avg_training_score"
      ],
      "execution_count": 0,
      "outputs": [
        {
          "output_type": "execute_result",
          "data": {
            "text/plain": [
              "0.5050001335111739"
            ]
          },
          "metadata": {
            "tags": []
          },
          "execution_count": 44
        }
      ]
    },
    {
      "cell_type": "code",
      "metadata": {
        "id": "EKLL5TT6KblK",
        "colab_type": "code",
        "colab": {}
      },
      "source": [
        "estimator = RandomForestClassifier()\n",
        "search_spaces = {\n",
        "    'bootstrap': [True, False],\n",
        "    'max_depth': (3, 20),\n",
        "    'max_features': (3,24),\n",
        "    'min_samples_leaf': (1, 4),\n",
        "    'min_samples_split': (1, 10),\n",
        "    'n_estimators': (50, 200)\n",
        "}\n",
        "\n",
        "bayes_rf = bayesTuner(estimator, search_spaces, trainX, trainY)"
      ],
      "execution_count": 0,
      "outputs": []
    },
    {
      "cell_type": "code",
      "metadata": {
        "id": "PAlZdBDvKblQ",
        "colab_type": "code",
        "colab": {}
      },
      "source": [
        "import xgboost as xgb\n",
        "#import lightgbm as lgb\n",
        "from skopt import BayesSearchCV\n",
        "from sklearn.model_selection import StratifiedKFold\n",
        "\n",
        "# SETTINGS - CHANGE THESE TO GET SOMETHING MEANINGFUL\n",
        "ITERATIONS = 50 # 1000\n",
        "TRAINING_SIZE = 100000 # 20000000\n",
        "TEST_SIZE = 25000\n",
        "\n",
        "\n",
        "# Classifier\n",
        "bayes_cv_tuner = BayesSearchCV(\n",
        "    estimator = RandomForestClassifier(\n",
        "    ),\n",
        "    search_spaces = {\n",
        "    'bootstrap': [True, False],\n",
        "    'max_depth': (3, 20),\n",
        "    'max_features': (3,24),\n",
        "    #'min_samples_leaf': (1, 4),\n",
        "    #'min_samples_split': (1, 10),\n",
        "    #'n_estimators': (50, 200)\n",
        "    }, \n",
        "    scoring = 'accuracy',\n",
        "    cv = StratifiedKFold(\n",
        "        n_splits=3,\n",
        "        shuffle=True,\n",
        "        random_state=42\n",
        "    ),\n",
        "    #n_jobs = 3,\n",
        "    n_iter = ITERATIONS,   \n",
        "    verbose = 0,\n",
        "    refit = True,\n",
        "    random_state = 42\n",
        ")\n",
        "\n",
        "def status_print(optim_result):\n",
        "    \"\"\"Status callback durring bayesian hyperparameter search\"\"\"\n",
        "    \n",
        "    # Get all the models tested so far in DataFrame format\n",
        "    all_models = pd.DataFrame(bayes_cv_tuner.cv_results_)    \n",
        "    \n",
        "    # Get current parameters and the best parameters    \n",
        "    best_params = pd.Series(bayes_cv_tuner.best_params_)\n",
        "    print('Model #{}\\nBest Accuracy: {}\\nBest params: {}\\n'.format(\n",
        "        len(all_models),\n",
        "        np.round(bayes_cv_tuner.best_score_, 4),\n",
        "        bayes_cv_tuner.best_params_\n",
        "    ))\n",
        "    \n",
        "    # Save all model results\n",
        "    clf_name = bayes_cv_tuner.estimator.__class__.__name__\n",
        "    all_models.to_csv(clf_name+\"_cv_results.csv\")"
      ],
      "execution_count": 0,
      "outputs": []
    },
    {
      "cell_type": "code",
      "metadata": {
        "id": "awKBdzUkKblR",
        "colab_type": "code",
        "outputId": "1375544b-9119-4bb2-9fc8-594de9fb24f1",
        "colab": {}
      },
      "source": [
        "bayes_cv_tuner.fit(X_train,Y_train,callback=status_print)"
      ],
      "execution_count": 0,
      "outputs": [
        {
          "output_type": "stream",
          "text": [
            "Model #1\n",
            "Best Accuracy: 0.4061\n",
            "Best params: OrderedDict([('bootstrap', True), ('max_depth', 15), ('max_features', 23)])\n",
            "\n",
            "Model #2\n",
            "Best Accuracy: 0.4191\n",
            "Best params: OrderedDict([('bootstrap', False), ('max_depth', 18), ('max_features', 9)])\n",
            "\n",
            "Model #3\n",
            "Best Accuracy: 0.4191\n",
            "Best params: OrderedDict([('bootstrap', False), ('max_depth', 18), ('max_features', 9)])\n",
            "\n",
            "Model #4\n",
            "Best Accuracy: 0.4191\n",
            "Best params: OrderedDict([('bootstrap', False), ('max_depth', 18), ('max_features', 9)])\n",
            "\n",
            "Model #5\n",
            "Best Accuracy: 0.4191\n",
            "Best params: OrderedDict([('bootstrap', False), ('max_depth', 18), ('max_features', 9)])\n",
            "\n",
            "Model #6\n",
            "Best Accuracy: 0.4191\n",
            "Best params: OrderedDict([('bootstrap', False), ('max_depth', 18), ('max_features', 9)])\n",
            "\n",
            "Model #7\n",
            "Best Accuracy: 0.4191\n",
            "Best params: OrderedDict([('bootstrap', False), ('max_depth', 18), ('max_features', 9)])\n",
            "\n",
            "Model #8\n",
            "Best Accuracy: 0.4237\n",
            "Best params: OrderedDict([('bootstrap', False), ('max_depth', 19), ('max_features', 13)])\n",
            "\n",
            "Model #9\n",
            "Best Accuracy: 0.4237\n",
            "Best params: OrderedDict([('bootstrap', False), ('max_depth', 19), ('max_features', 13)])\n",
            "\n",
            "Model #10\n",
            "Best Accuracy: 0.4237\n",
            "Best params: OrderedDict([('bootstrap', False), ('max_depth', 19), ('max_features', 13)])\n",
            "\n",
            "Model #11\n",
            "Best Accuracy: 0.4302\n",
            "Best params: OrderedDict([('bootstrap', False), ('max_depth', 20), ('max_features', 24)])\n",
            "\n"
          ],
          "name": "stdout"
        },
        {
          "output_type": "stream",
          "text": [
            "/Users/harshut/opt/anaconda3/lib/python3.7/site-packages/skopt/optimizer/optimizer.py:409: UserWarning: The objective has been evaluated at this point before.\n",
            "  warnings.warn(\"The objective has been evaluated \"\n"
          ],
          "name": "stderr"
        },
        {
          "output_type": "stream",
          "text": [
            "Model #12\n",
            "Best Accuracy: 0.4302\n",
            "Best params: OrderedDict([('bootstrap', False), ('max_depth', 20), ('max_features', 24)])\n",
            "\n"
          ],
          "name": "stdout"
        },
        {
          "output_type": "stream",
          "text": [
            "/Users/harshut/opt/anaconda3/lib/python3.7/site-packages/skopt/optimizer/optimizer.py:409: UserWarning: The objective has been evaluated at this point before.\n",
            "  warnings.warn(\"The objective has been evaluated \"\n"
          ],
          "name": "stderr"
        },
        {
          "output_type": "stream",
          "text": [
            "Model #13\n",
            "Best Accuracy: 0.4302\n",
            "Best params: OrderedDict([('bootstrap', False), ('max_depth', 20), ('max_features', 24)])\n",
            "\n",
            "Model #14\n",
            "Best Accuracy: 0.4302\n",
            "Best params: OrderedDict([('bootstrap', False), ('max_depth', 20), ('max_features', 24)])\n",
            "\n",
            "Model #15\n",
            "Best Accuracy: 0.4302\n",
            "Best params: OrderedDict([('bootstrap', False), ('max_depth', 20), ('max_features', 24)])\n",
            "\n",
            "Model #16\n",
            "Best Accuracy: 0.4302\n",
            "Best params: OrderedDict([('bootstrap', False), ('max_depth', 20), ('max_features', 24)])\n",
            "\n"
          ],
          "name": "stdout"
        },
        {
          "output_type": "stream",
          "text": [
            "/Users/harshut/opt/anaconda3/lib/python3.7/site-packages/skopt/optimizer/optimizer.py:409: UserWarning: The objective has been evaluated at this point before.\n",
            "  warnings.warn(\"The objective has been evaluated \"\n"
          ],
          "name": "stderr"
        },
        {
          "output_type": "stream",
          "text": [
            "Model #17\n",
            "Best Accuracy: 0.4302\n",
            "Best params: OrderedDict([('bootstrap', False), ('max_depth', 20), ('max_features', 24)])\n",
            "\n"
          ],
          "name": "stdout"
        },
        {
          "output_type": "stream",
          "text": [
            "/Users/harshut/opt/anaconda3/lib/python3.7/site-packages/skopt/optimizer/optimizer.py:409: UserWarning: The objective has been evaluated at this point before.\n",
            "  warnings.warn(\"The objective has been evaluated \"\n"
          ],
          "name": "stderr"
        },
        {
          "output_type": "stream",
          "text": [
            "Model #18\n",
            "Best Accuracy: 0.4302\n",
            "Best params: OrderedDict([('bootstrap', False), ('max_depth', 20), ('max_features', 24)])\n",
            "\n",
            "Model #19\n",
            "Best Accuracy: 0.4302\n",
            "Best params: OrderedDict([('bootstrap', False), ('max_depth', 20), ('max_features', 24)])\n",
            "\n",
            "Model #20\n",
            "Best Accuracy: 0.4302\n",
            "Best params: OrderedDict([('bootstrap', False), ('max_depth', 20), ('max_features', 24)])\n",
            "\n"
          ],
          "name": "stdout"
        },
        {
          "output_type": "stream",
          "text": [
            "/Users/harshut/opt/anaconda3/lib/python3.7/site-packages/skopt/optimizer/optimizer.py:409: UserWarning: The objective has been evaluated at this point before.\n",
            "  warnings.warn(\"The objective has been evaluated \"\n"
          ],
          "name": "stderr"
        },
        {
          "output_type": "stream",
          "text": [
            "Model #21\n",
            "Best Accuracy: 0.4302\n",
            "Best params: OrderedDict([('bootstrap', False), ('max_depth', 20), ('max_features', 24)])\n",
            "\n",
            "Model #22\n",
            "Best Accuracy: 0.4302\n",
            "Best params: OrderedDict([('bootstrap', False), ('max_depth', 20), ('max_features', 24)])\n",
            "\n",
            "Model #23\n",
            "Best Accuracy: 0.4302\n",
            "Best params: OrderedDict([('bootstrap', False), ('max_depth', 20), ('max_features', 24)])\n",
            "\n",
            "Model #24\n",
            "Best Accuracy: 0.4302\n",
            "Best params: OrderedDict([('bootstrap', False), ('max_depth', 20), ('max_features', 24)])\n",
            "\n",
            "Model #25\n",
            "Best Accuracy: 0.4302\n",
            "Best params: OrderedDict([('bootstrap', False), ('max_depth', 20), ('max_features', 24)])\n",
            "\n"
          ],
          "name": "stdout"
        },
        {
          "output_type": "stream",
          "text": [
            "/Users/harshut/opt/anaconda3/lib/python3.7/site-packages/skopt/optimizer/optimizer.py:409: UserWarning: The objective has been evaluated at this point before.\n",
            "  warnings.warn(\"The objective has been evaluated \"\n"
          ],
          "name": "stderr"
        },
        {
          "output_type": "stream",
          "text": [
            "Model #26\n",
            "Best Accuracy: 0.4309\n",
            "Best params: OrderedDict([('bootstrap', False), ('max_depth', 20), ('max_features', 24)])\n",
            "\n"
          ],
          "name": "stdout"
        },
        {
          "output_type": "stream",
          "text": [
            "/Users/harshut/opt/anaconda3/lib/python3.7/site-packages/skopt/optimizer/optimizer.py:409: UserWarning: The objective has been evaluated at this point before.\n",
            "  warnings.warn(\"The objective has been evaluated \"\n"
          ],
          "name": "stderr"
        },
        {
          "output_type": "stream",
          "text": [
            "Model #27\n",
            "Best Accuracy: 0.4309\n",
            "Best params: OrderedDict([('bootstrap', False), ('max_depth', 20), ('max_features', 24)])\n",
            "\n",
            "Model #28\n",
            "Best Accuracy: 0.4309\n",
            "Best params: OrderedDict([('bootstrap', False), ('max_depth', 20), ('max_features', 24)])\n",
            "\n",
            "Model #29\n",
            "Best Accuracy: 0.4309\n",
            "Best params: OrderedDict([('bootstrap', False), ('max_depth', 20), ('max_features', 24)])\n",
            "\n",
            "Model #30\n",
            "Best Accuracy: 0.4309\n",
            "Best params: OrderedDict([('bootstrap', False), ('max_depth', 20), ('max_features', 24)])\n",
            "\n"
          ],
          "name": "stdout"
        },
        {
          "output_type": "stream",
          "text": [
            "/Users/harshut/opt/anaconda3/lib/python3.7/site-packages/skopt/optimizer/optimizer.py:409: UserWarning: The objective has been evaluated at this point before.\n",
            "  warnings.warn(\"The objective has been evaluated \"\n"
          ],
          "name": "stderr"
        },
        {
          "output_type": "stream",
          "text": [
            "Model #31\n",
            "Best Accuracy: 0.4309\n",
            "Best params: OrderedDict([('bootstrap', False), ('max_depth', 20), ('max_features', 24)])\n",
            "\n",
            "Model #32\n",
            "Best Accuracy: 0.4309\n",
            "Best params: OrderedDict([('bootstrap', False), ('max_depth', 20), ('max_features', 24)])\n",
            "\n",
            "Model #33\n",
            "Best Accuracy: 0.4309\n",
            "Best params: OrderedDict([('bootstrap', False), ('max_depth', 20), ('max_features', 24)])\n",
            "\n"
          ],
          "name": "stdout"
        },
        {
          "output_type": "stream",
          "text": [
            "/Users/harshut/opt/anaconda3/lib/python3.7/site-packages/skopt/optimizer/optimizer.py:409: UserWarning: The objective has been evaluated at this point before.\n",
            "  warnings.warn(\"The objective has been evaluated \"\n"
          ],
          "name": "stderr"
        },
        {
          "output_type": "stream",
          "text": [
            "Model #34\n",
            "Best Accuracy: 0.4309\n",
            "Best params: OrderedDict([('bootstrap', False), ('max_depth', 20), ('max_features', 24)])\n",
            "\n"
          ],
          "name": "stdout"
        },
        {
          "output_type": "stream",
          "text": [
            "/Users/harshut/opt/anaconda3/lib/python3.7/site-packages/skopt/optimizer/optimizer.py:409: UserWarning: The objective has been evaluated at this point before.\n",
            "  warnings.warn(\"The objective has been evaluated \"\n"
          ],
          "name": "stderr"
        },
        {
          "output_type": "stream",
          "text": [
            "Model #35\n",
            "Best Accuracy: 0.4309\n",
            "Best params: OrderedDict([('bootstrap', False), ('max_depth', 20), ('max_features', 24)])\n",
            "\n"
          ],
          "name": "stdout"
        },
        {
          "output_type": "stream",
          "text": [
            "/Users/harshut/opt/anaconda3/lib/python3.7/site-packages/skopt/optimizer/optimizer.py:409: UserWarning: The objective has been evaluated at this point before.\n",
            "  warnings.warn(\"The objective has been evaluated \"\n"
          ],
          "name": "stderr"
        },
        {
          "output_type": "stream",
          "text": [
            "Model #36\n",
            "Best Accuracy: 0.4309\n",
            "Best params: OrderedDict([('bootstrap', False), ('max_depth', 20), ('max_features', 24)])\n",
            "\n"
          ],
          "name": "stdout"
        },
        {
          "output_type": "stream",
          "text": [
            "/Users/harshut/opt/anaconda3/lib/python3.7/site-packages/skopt/optimizer/optimizer.py:409: UserWarning: The objective has been evaluated at this point before.\n",
            "  warnings.warn(\"The objective has been evaluated \"\n"
          ],
          "name": "stderr"
        },
        {
          "output_type": "stream",
          "text": [
            "Model #37\n",
            "Best Accuracy: 0.4309\n",
            "Best params: OrderedDict([('bootstrap', False), ('max_depth', 20), ('max_features', 24)])\n",
            "\n",
            "Model #38\n",
            "Best Accuracy: 0.4309\n",
            "Best params: OrderedDict([('bootstrap', False), ('max_depth', 20), ('max_features', 24)])\n",
            "\n",
            "Model #39\n",
            "Best Accuracy: 0.4309\n",
            "Best params: OrderedDict([('bootstrap', False), ('max_depth', 20), ('max_features', 24)])\n",
            "\n"
          ],
          "name": "stdout"
        },
        {
          "output_type": "stream",
          "text": [
            "/Users/harshut/opt/anaconda3/lib/python3.7/site-packages/skopt/optimizer/optimizer.py:409: UserWarning: The objective has been evaluated at this point before.\n",
            "  warnings.warn(\"The objective has been evaluated \"\n"
          ],
          "name": "stderr"
        },
        {
          "output_type": "stream",
          "text": [
            "Model #40\n",
            "Best Accuracy: 0.4309\n",
            "Best params: OrderedDict([('bootstrap', False), ('max_depth', 20), ('max_features', 24)])\n",
            "\n"
          ],
          "name": "stdout"
        },
        {
          "output_type": "stream",
          "text": [
            "/Users/harshut/opt/anaconda3/lib/python3.7/site-packages/skopt/optimizer/optimizer.py:409: UserWarning: The objective has been evaluated at this point before.\n",
            "  warnings.warn(\"The objective has been evaluated \"\n"
          ],
          "name": "stderr"
        },
        {
          "output_type": "stream",
          "text": [
            "Model #41\n",
            "Best Accuracy: 0.4314\n",
            "Best params: OrderedDict([('bootstrap', False), ('max_depth', 18), ('max_features', 24)])\n",
            "\n"
          ],
          "name": "stdout"
        },
        {
          "output_type": "stream",
          "text": [
            "/Users/harshut/opt/anaconda3/lib/python3.7/site-packages/skopt/optimizer/optimizer.py:409: UserWarning: The objective has been evaluated at this point before.\n",
            "  warnings.warn(\"The objective has been evaluated \"\n"
          ],
          "name": "stderr"
        },
        {
          "output_type": "stream",
          "text": [
            "Model #42\n",
            "Best Accuracy: 0.4314\n",
            "Best params: OrderedDict([('bootstrap', False), ('max_depth', 18), ('max_features', 24)])\n",
            "\n"
          ],
          "name": "stdout"
        },
        {
          "output_type": "stream",
          "text": [
            "/Users/harshut/opt/anaconda3/lib/python3.7/site-packages/skopt/optimizer/optimizer.py:409: UserWarning: The objective has been evaluated at this point before.\n",
            "  warnings.warn(\"The objective has been evaluated \"\n"
          ],
          "name": "stderr"
        },
        {
          "output_type": "stream",
          "text": [
            "Model #43\n",
            "Best Accuracy: 0.4314\n",
            "Best params: OrderedDict([('bootstrap', False), ('max_depth', 18), ('max_features', 24)])\n",
            "\n"
          ],
          "name": "stdout"
        },
        {
          "output_type": "stream",
          "text": [
            "/Users/harshut/opt/anaconda3/lib/python3.7/site-packages/skopt/optimizer/optimizer.py:409: UserWarning: The objective has been evaluated at this point before.\n",
            "  warnings.warn(\"The objective has been evaluated \"\n"
          ],
          "name": "stderr"
        },
        {
          "output_type": "stream",
          "text": [
            "Model #44\n",
            "Best Accuracy: 0.4314\n",
            "Best params: OrderedDict([('bootstrap', False), ('max_depth', 18), ('max_features', 24)])\n",
            "\n",
            "Model #45\n",
            "Best Accuracy: 0.4314\n",
            "Best params: OrderedDict([('bootstrap', False), ('max_depth', 18), ('max_features', 24)])\n",
            "\n"
          ],
          "name": "stdout"
        },
        {
          "output_type": "stream",
          "text": [
            "/Users/harshut/opt/anaconda3/lib/python3.7/site-packages/skopt/optimizer/optimizer.py:409: UserWarning: The objective has been evaluated at this point before.\n",
            "  warnings.warn(\"The objective has been evaluated \"\n"
          ],
          "name": "stderr"
        },
        {
          "output_type": "stream",
          "text": [
            "Model #46\n",
            "Best Accuracy: 0.4314\n",
            "Best params: OrderedDict([('bootstrap', False), ('max_depth', 18), ('max_features', 24)])\n",
            "\n",
            "Model #47\n",
            "Best Accuracy: 0.4314\n",
            "Best params: OrderedDict([('bootstrap', False), ('max_depth', 18), ('max_features', 24)])\n",
            "\n"
          ],
          "name": "stdout"
        },
        {
          "output_type": "stream",
          "text": [
            "/Users/harshut/opt/anaconda3/lib/python3.7/site-packages/skopt/optimizer/optimizer.py:409: UserWarning: The objective has been evaluated at this point before.\n",
            "  warnings.warn(\"The objective has been evaluated \"\n"
          ],
          "name": "stderr"
        },
        {
          "output_type": "stream",
          "text": [
            "Model #48\n",
            "Best Accuracy: 0.4314\n",
            "Best params: OrderedDict([('bootstrap', False), ('max_depth', 18), ('max_features', 24)])\n",
            "\n"
          ],
          "name": "stdout"
        },
        {
          "output_type": "stream",
          "text": [
            "/Users/harshut/opt/anaconda3/lib/python3.7/site-packages/skopt/optimizer/optimizer.py:409: UserWarning: The objective has been evaluated at this point before.\n",
            "  warnings.warn(\"The objective has been evaluated \"\n"
          ],
          "name": "stderr"
        },
        {
          "output_type": "stream",
          "text": [
            "Model #49\n",
            "Best Accuracy: 0.4314\n",
            "Best params: OrderedDict([('bootstrap', False), ('max_depth', 18), ('max_features', 24)])\n",
            "\n"
          ],
          "name": "stdout"
        },
        {
          "output_type": "stream",
          "text": [
            "/Users/harshut/opt/anaconda3/lib/python3.7/site-packages/skopt/optimizer/optimizer.py:409: UserWarning: The objective has been evaluated at this point before.\n",
            "  warnings.warn(\"The objective has been evaluated \"\n"
          ],
          "name": "stderr"
        },
        {
          "output_type": "stream",
          "text": [
            "Model #50\n",
            "Best Accuracy: 0.4314\n",
            "Best params: OrderedDict([('bootstrap', False), ('max_depth', 18), ('max_features', 24)])\n",
            "\n"
          ],
          "name": "stdout"
        },
        {
          "output_type": "execute_result",
          "data": {
            "text/plain": [
              "BayesSearchCV(cv=StratifiedKFold(n_splits=3, random_state=42, shuffle=True),\n",
              "              error_score='raise',\n",
              "              estimator=RandomForestClassifier(bootstrap=True, ccp_alpha=0.0,\n",
              "                                               class_weight=None,\n",
              "                                               criterion='gini', max_depth=None,\n",
              "                                               max_features='auto',\n",
              "                                               max_leaf_nodes=None,\n",
              "                                               max_samples=None,\n",
              "                                               min_impurity_decrease=0.0,\n",
              "                                               min_impurity_split=None,\n",
              "                                               min_samples_leaf=1,\n",
              "                                               min_samples_split=...\n",
              "                                               n_estimators=100, n_jobs=None,\n",
              "                                               oob_score=False,\n",
              "                                               random_state=None, verbose=0,\n",
              "                                               warm_start=False),\n",
              "              fit_params=None, iid=True, n_iter=50, n_jobs=1, n_points=1,\n",
              "              optimizer_kwargs=None, pre_dispatch='2*n_jobs', random_state=42,\n",
              "              refit=True, return_train_score=False, scoring='accuracy',\n",
              "              search_spaces={'bootstrap': [True, False], 'max_depth': (3, 20),\n",
              "                             'max_features': (3, 24)},\n",
              "              verbose=0)"
            ]
          },
          "metadata": {
            "tags": []
          },
          "execution_count": 52
        }
      ]
    },
    {
      "cell_type": "code",
      "metadata": {
        "id": "7dvdCly5KblT",
        "colab_type": "code",
        "colab": {}
      },
      "source": [
        "best=bayes_cv_tuner.best_params_"
      ],
      "execution_count": 0,
      "outputs": []
    },
    {
      "cell_type": "code",
      "metadata": {
        "id": "1xQdxWRoKblV",
        "colab_type": "code",
        "colab": {}
      },
      "source": [
        "model1=RandomForestClassifier(**best)"
      ],
      "execution_count": 0,
      "outputs": []
    },
    {
      "cell_type": "code",
      "metadata": {
        "id": "6jMVKswEKblX",
        "colab_type": "code",
        "colab": {}
      },
      "source": [
        "Test_Error=(accuracy_score(Y_test,bayes_cv_tuner.predict(X_test)))"
      ],
      "execution_count": 0,
      "outputs": []
    },
    {
      "cell_type": "code",
      "metadata": {
        "id": "_3xU1Ja7KblZ",
        "colab_type": "code",
        "outputId": "3662aae8-bd31-4a40-ae7c-afb9f4283be2",
        "colab": {}
      },
      "source": [
        "Test_Error"
      ],
      "execution_count": 0,
      "outputs": [
        {
          "output_type": "execute_result",
          "data": {
            "text/plain": [
              "0.4436"
            ]
          },
          "metadata": {
            "tags": []
          },
          "execution_count": 63
        }
      ]
    },
    {
      "cell_type": "code",
      "metadata": {
        "id": "5QmDi_LaNR9M",
        "colab_type": "code",
        "colab": {}
      },
      "source": [
        ""
      ],
      "execution_count": 0,
      "outputs": []
    }
  ]
}