{
  "nbformat": 4,
  "nbformat_minor": 0,
  "metadata": {
    "colab": {
      "name": "DSL_4_Question3.ipynb",
      "provenance": [],
      "collapsed_sections": []
    },
    "kernelspec": {
      "name": "python3",
      "display_name": "Python 3"
    }
  },
  "cells": [
    {
      "cell_type": "markdown",
      "metadata": {
        "id": "Z2xDbMwBbM2C",
        "colab_type": "text"
      },
      "source": [
        "**Problem No. 3**"
      ]
    },
    {
      "cell_type": "markdown",
      "metadata": {
        "id": "kYxbU-m4bITx",
        "colab_type": "text"
      },
      "source": [
        "Use Random Forests to try to get the best possible test accuracy on MNIST. Use Cross Validation to ﬁnd the best settings. How well can you do? You should use the accuracy metric to compare to logistic regression. What are the hyperparameters of your best model? "
      ]
    },
    {
      "cell_type": "code",
      "metadata": {
        "id": "QZ9MwUgoKRgv",
        "colab_type": "code",
        "colab": {}
      },
      "source": [
        "import pandas as pd\n",
        "import numpy as np\n",
        "import matplotlib.pyplot as plt\n",
        "from sklearn import datasets\n",
        "from sklearn.model_selection import train_test_split\n",
        "from sklearn.model_selection import cross_val_score\n",
        "%matplotlib inline"
      ],
      "execution_count": 0,
      "outputs": []
    },
    {
      "cell_type": "code",
      "metadata": {
        "id": "JTKlRQsVKZ7n",
        "colab_type": "code",
        "colab": {}
      },
      "source": [
        "mnist = datasets.fetch_openml(name='mnist_784',version='active')"
      ],
      "execution_count": 0,
      "outputs": []
    },
    {
      "cell_type": "code",
      "metadata": {
        "id": "1uROIS27KrpH",
        "colab_type": "code",
        "outputId": "dc0f915d-f9d3-48bc-8cd4-aba0279a1475",
        "colab": {
          "base_uri": "https://localhost:8080/",
          "height": 268
        }
      },
      "source": [
        "print(mnist.DESCR)"
      ],
      "execution_count": 0,
      "outputs": [
        {
          "output_type": "stream",
          "text": [
            "**Author**: Yann LeCun, Corinna Cortes, Christopher J.C. Burges  \n",
            "**Source**: [MNIST Website](http://yann.lecun.com/exdb/mnist/) - Date unknown  \n",
            "**Please cite**:  \n",
            "\n",
            "The MNIST database of handwritten digits with 784 features, raw data available at: http://yann.lecun.com/exdb/mnist/. It can be split in a training set of the first 60,000 examples, and a test set of 10,000 examples  \n",
            "\n",
            "It is a subset of a larger set available from NIST. The digits have been size-normalized and centered in a fixed-size image. It is a good database for people who want to try learning techniques and pattern recognition methods on real-world data while spending minimal efforts on preprocessing and formatting. The original black and white (bilevel) images from NIST were size normalized to fit in a 20x20 pixel box while preserving their aspect ratio. The resulting images contain grey levels as a result of the anti-aliasing technique used by the normalization algorithm. the images were centered in a 28x28 image by computing the center of mass of the pixels, and translating the image so as to position this point at the center of the 28x28 field.  \n",
            "\n",
            "With some classification methods (particularly template-based methods, such as SVM and K-nearest neighbors), the error rate improves when the digits are centered by bounding box rather than center of mass. If you do this kind of pre-processing, you should report it in your publications. The MNIST database was constructed from NIST's NIST originally designated SD-3 as their training set and SD-1 as their test set. However, SD-3 is much cleaner and easier to recognize than SD-1. The reason for this can be found on the fact that SD-3 was collected among Census Bureau employees, while SD-1 was collected among high-school students. Drawing sensible conclusions from learning experiments requires that the result be independent of the choice of training set and test among the complete set of samples. Therefore it was necessary to build a new database by mixing NIST's datasets.  \n",
            "\n",
            "The MNIST training set is composed of 30,000 patterns from SD-3 and 30,000 patterns from SD-1. Our test set was composed of 5,000 patterns from SD-3 and 5,000 patterns from SD-1. The 60,000 pattern training set contained examples from approximately 250 writers. We made sure that the sets of writers of the training set and test set were disjoint. SD-1 contains 58,527 digit images written by 500 different writers. In contrast to SD-3, where blocks of data from each writer appeared in sequence, the data in SD-1 is scrambled. Writer identities for SD-1 is available and we used this information to unscramble the writers. We then split SD-1 in two: characters written by the first 250 writers went into our new training set. The remaining 250 writers were placed in our test set. Thus we had two sets with nearly 30,000 examples each. The new training set was completed with enough examples from SD-3, starting at pattern # 0, to make a full set of 60,000 training patterns. Similarly, the new test set was completed with SD-3 examples starting at pattern # 35,000 to make a full set with 60,000 test patterns. Only a subset of 10,000 test images (5,000 from SD-1 and 5,000 from SD-3) is available on this site. The full 60,000 sample training set is available.\n",
            "\n",
            "Downloaded from openml.org.\n"
          ],
          "name": "stdout"
        }
      ]
    },
    {
      "cell_type": "code",
      "metadata": {
        "id": "4D376f1JKhDs",
        "colab_type": "code",
        "outputId": "78e04f69-0c9e-46e4-f476-cd607e201728",
        "colab": {
          "base_uri": "https://localhost:8080/",
          "height": 141
        }
      },
      "source": [
        "mnist.data"
      ],
      "execution_count": 0,
      "outputs": [
        {
          "output_type": "execute_result",
          "data": {
            "text/plain": [
              "array([[0., 0., 0., ..., 0., 0., 0.],\n",
              "       [0., 0., 0., ..., 0., 0., 0.],\n",
              "       [0., 0., 0., ..., 0., 0., 0.],\n",
              "       ...,\n",
              "       [0., 0., 0., ..., 0., 0., 0.],\n",
              "       [0., 0., 0., ..., 0., 0., 0.],\n",
              "       [0., 0., 0., ..., 0., 0., 0.]])"
            ]
          },
          "metadata": {
            "tags": []
          },
          "execution_count": 6
        }
      ]
    },
    {
      "cell_type": "code",
      "metadata": {
        "id": "Yu9m47WSKlUh",
        "colab_type": "code",
        "outputId": "96867797-6db2-4ada-def3-31fdb2970466",
        "colab": {
          "base_uri": "https://localhost:8080/",
          "height": 390
        }
      },
      "source": [
        "mnist.details"
      ],
      "execution_count": 0,
      "outputs": [
        {
          "output_type": "execute_result",
          "data": {
            "text/plain": [
              "{'default_target_attribute': 'class',\n",
              " 'file_id': '52667',\n",
              " 'format': 'ARFF',\n",
              " 'id': '554',\n",
              " 'licence': 'Public',\n",
              " 'md5_checksum': '0298d579eb1b86163de7723944c7e495',\n",
              " 'name': 'mnist_784',\n",
              " 'processing_date': '2018-10-03 21:23:30',\n",
              " 'status': 'active',\n",
              " 'tag': ['AzurePilot',\n",
              "  'OpenML-CC18',\n",
              "  'OpenML100',\n",
              "  'study_1',\n",
              "  'study_123',\n",
              "  'study_41',\n",
              "  'study_99',\n",
              "  'vision'],\n",
              " 'upload_date': '2014-09-29T03:28:38',\n",
              " 'url': 'https://www.openml.org/data/v1/download/52667/mnist_784.arff',\n",
              " 'version': '1',\n",
              " 'visibility': 'public'}"
            ]
          },
          "metadata": {
            "tags": []
          },
          "execution_count": 7
        }
      ]
    },
    {
      "cell_type": "code",
      "metadata": {
        "id": "JQHlLXkZKbrW",
        "colab_type": "code",
        "outputId": "750b35a7-f1bf-4def-82f6-f0a2b1c1a5d0",
        "colab": {
          "base_uri": "https://localhost:8080/",
          "height": 35
        }
      },
      "source": [
        "np.unique(mnist.target)"
      ],
      "execution_count": 0,
      "outputs": [
        {
          "output_type": "execute_result",
          "data": {
            "text/plain": [
              "array(['0', '1', '2', '3', '4', '5', '6', '7', '8', '9'], dtype=object)"
            ]
          },
          "metadata": {
            "tags": []
          },
          "execution_count": 8
        }
      ]
    },
    {
      "cell_type": "code",
      "metadata": {
        "id": "Rqht3exuKj0l",
        "colab_type": "code",
        "outputId": "c88b07cb-63d3-4402-9058-429e9d5f40dc",
        "colab": {
          "base_uri": "https://localhost:8080/",
          "height": 35
        }
      },
      "source": [
        "mnist.data.shape"
      ],
      "execution_count": 0,
      "outputs": [
        {
          "output_type": "execute_result",
          "data": {
            "text/plain": [
              "(70000, 784)"
            ]
          },
          "metadata": {
            "tags": []
          },
          "execution_count": 9
        }
      ]
    },
    {
      "cell_type": "code",
      "metadata": {
        "id": "Xy3xQ14BLCWI",
        "colab_type": "code",
        "colab": {}
      },
      "source": [
        "X = mnist[\"data\"]\n",
        "y = mnist[\"target\"]"
      ],
      "execution_count": 0,
      "outputs": []
    },
    {
      "cell_type": "code",
      "metadata": {
        "id": "5NTJm448LJc4",
        "colab_type": "code",
        "colab": {}
      },
      "source": [
        "X_train, X_test, y_train, y_test = train_test_split(X, y, test_size=0.25,shuffle=False) # Splitting the datasets"
      ],
      "execution_count": 0,
      "outputs": []
    },
    {
      "cell_type": "code",
      "metadata": {
        "id": "SrJGsWTDLUas",
        "colab_type": "code",
        "outputId": "7a0a0013-5e7d-46a2-e24d-4194e29a3f32",
        "colab": {
          "base_uri": "https://localhost:8080/",
          "height": 230
        }
      },
      "source": [
        "pip install scikit-optimize"
      ],
      "execution_count": 8,
      "outputs": [
        {
          "output_type": "stream",
          "text": [
            "Collecting scikit-optimize\n",
            "\u001b[?25l  Downloading https://files.pythonhosted.org/packages/5c/87/310b52debfbc0cb79764e5770fa3f5c18f6f0754809ea9e2fc185e1b67d3/scikit_optimize-0.7.4-py2.py3-none-any.whl (80kB)\n",
            "\r\u001b[K     |████                            | 10kB 8.2MB/s eta 0:00:01\r\u001b[K     |████████▏                       | 20kB 2.2MB/s eta 0:00:01\r\u001b[K     |████████████▎                   | 30kB 3.1MB/s eta 0:00:01\r\u001b[K     |████████████████▎               | 40kB 2.0MB/s eta 0:00:01\r\u001b[K     |████████████████████▍           | 51kB 2.5MB/s eta 0:00:01\r\u001b[K     |████████████████████████▌       | 61kB 3.0MB/s eta 0:00:01\r\u001b[K     |████████████████████████████▌   | 71kB 3.4MB/s eta 0:00:01\r\u001b[K     |████████████████████████████████| 81kB 2.7MB/s \n",
            "\u001b[?25hRequirement already satisfied: joblib>=0.11 in /usr/local/lib/python3.6/dist-packages (from scikit-optimize) (0.14.1)\n",
            "Requirement already satisfied: numpy>=1.11.0 in /usr/local/lib/python3.6/dist-packages (from scikit-optimize) (1.18.2)\n",
            "Collecting pyaml>=16.9\n",
            "  Downloading https://files.pythonhosted.org/packages/15/c4/1310a054d33abc318426a956e7d6df0df76a6ddfa9c66f6310274fb75d42/pyaml-20.4.0-py2.py3-none-any.whl\n",
            "Requirement already satisfied: scipy>=0.18.0 in /usr/local/lib/python3.6/dist-packages (from scikit-optimize) (1.4.1)\n",
            "Requirement already satisfied: scikit-learn>=0.19.1 in /usr/local/lib/python3.6/dist-packages (from scikit-optimize) (0.22.2.post1)\n",
            "Requirement already satisfied: PyYAML in /usr/local/lib/python3.6/dist-packages (from pyaml>=16.9->scikit-optimize) (3.13)\n",
            "Installing collected packages: pyaml, scikit-optimize\n",
            "Successfully installed pyaml-20.4.0 scikit-optimize-0.7.4\n"
          ],
          "name": "stdout"
        }
      ]
    },
    {
      "cell_type": "code",
      "metadata": {
        "id": "C16ZPP2ML7rS",
        "colab_type": "code",
        "colab": {}
      },
      "source": [
        "import skopt\n",
        "import xgboost as xgb\n",
        "import lightgbm as lgb\n",
        "from xgboost import XGBClassifier,plot_importance\n",
        "from sklearn.model_selection import StratifiedKFold\n",
        "from sklearn.ensemble import RandomForestClassifier\n",
        "from google.colab import files\n",
        "from sklearn.ensemble import VotingClassifier\n",
        "from sklearn import model_selection\n",
        "from skopt import BayesSearchCV"
      ],
      "execution_count": 0,
      "outputs": []
    },
    {
      "cell_type": "code",
      "metadata": {
        "id": "MwRo2RxAN_gX",
        "colab_type": "code",
        "colab": {}
      },
      "source": [
        "def cross_validation(model,X_train,y_train,modelName):\n",
        "    scoring = 'accuracy'\n",
        "    score = model_selection.cross_val_score(model, X_train, y_train, cv = 10, scoring=scoring)\n",
        "    mean_score = score.mean()\n",
        "    print(\"Accuracy Value for \" + str(modelName) + \": %.3f (%.3f)\" % (score.mean(), score.std()))\n",
        "    return mean_score"
      ],
      "execution_count": 0,
      "outputs": []
    },
    {
      "cell_type": "code",
      "metadata": {
        "id": "9VmvDQSLMA0T",
        "colab_type": "code",
        "colab": {}
      },
      "source": [
        " #manually set the hyper parans\n",
        "random_forest_classifier = RandomForestClassifier(n_estimators=200,max_depth=8,min_samples_split=10,class_weight=\"balanced\",random_state=100)"
      ],
      "execution_count": 0,
      "outputs": []
    },
    {
      "cell_type": "code",
      "metadata": {
        "id": "BJJ83gQWNmbr",
        "colab_type": "code",
        "outputId": "cd0c2934-9450-4267-d65c-ad621a333abe",
        "colab": {
          "base_uri": "https://localhost:8080/",
          "height": 52
        }
      },
      "source": [
        "cross_validation(random_forest_classifier,X_train,y_train,'Random_Forest')"
      ],
      "execution_count": 0,
      "outputs": [
        {
          "output_type": "stream",
          "text": [
            "Accuracy Value for Random_Forest: 0.923 (0.005)\n"
          ],
          "name": "stdout"
        },
        {
          "output_type": "execute_result",
          "data": {
            "text/plain": [
              "0.9229333333333333"
            ]
          },
          "metadata": {
            "tags": []
          },
          "execution_count": 17
        }
      ]
    },
    {
      "cell_type": "code",
      "metadata": {
        "id": "tyAg2_dtPdCL",
        "colab_type": "code",
        "colab": {}
      },
      "source": [
        "## Hyperparameter Tuning of Random Forest Classifier:\n",
        "\n",
        "ITERATIONS = 20 \n",
        "TRAINING_SIZE = 100000 \n",
        "TEST_SIZE = 25000\n",
        "# Classifier\n",
        "bayes_cv_tuner = BayesSearchCV(\n",
        "    estimator = RandomForestClassifier(\n",
        "        n_jobs = 1\n",
        "    ),\n",
        "    search_spaces = {\n",
        "    # 'min_samples_split': [3, 5, 8, 10, 20], \n",
        "    # 'n_estimators' : [100, 500],\n",
        "    # 'max_depth': [3, 5, 8, 10, 15],\n",
        "    # 'max_features': [3, 5, 8]\n",
        "\n",
        "        'n_estimators' : (100, 600),\n",
        "        'min_samples_split': [3, 5, 8, 10, 20], \n",
        "        'max_depth': [3, 5, 8, 10, 15,20],\n",
        "        'min_samples_leaf':[1,2,5,10,15,20],\n",
        "        'max_features': ['auto','sqrt','log2']\n",
        "},   \n",
        "\n",
        "      #set 2\n",
        "        # 'n_estimators' : (200, 1000),\n",
        "        # 'max_depth': [3, 5, 8, 10, 15,20],\n",
        "        # 'min_child_weight':(1,10),\n",
        "        # 'learning_rate': (0.01, 1.0, 'log-uniform'),\n",
        "        # 'colsample_bytree': (0.01, 1.0, 'uniform'),\n",
        "        # 'colsample_bylevel': (0.2, 1.0, 'uniform'),\n",
        "        #  'gamma': [0.5, 1, 1.5, 2, 5,8,10],\n",
        "        #  'max_delta_step':(1,10)\n",
        "\n",
        "    scoring = 'accuracy',\n",
        "    cv = StratifiedKFold(\n",
        "        n_splits=3,\n",
        "        shuffle=True,\n",
        "        random_state=42\n",
        "    ),\n",
        "    n_jobs = 3,\n",
        "    n_iter = ITERATIONS,   \n",
        "    verbose = 0,\n",
        "    refit = True,\n",
        "    random_state = 42\n",
        ")"
      ],
      "execution_count": 0,
      "outputs": []
    },
    {
      "cell_type": "code",
      "metadata": {
        "id": "W5mh42OYeJXr",
        "colab_type": "code",
        "colab": {}
      },
      "source": [
        "def Print_Model_Results(optim_result):\n",
        "    \"\"\"Status callback durring bayesian hyperparameter search\"\"\"\n",
        "    \n",
        "    # Get all the models tested so far in DataFrame format\n",
        "    all_models = pd.DataFrame(bayes_cv_tuner.cv_results_)    \n",
        "    \n",
        "    # Get current parameters and the best parameters    \n",
        "    best_params = pd.Series(bayes_cv_tuner.best_params_)\n",
        "    print('Model #{}\\nBest accuracy: {}\\nBest params: {}\\n'.format(\n",
        "        len(all_models),\n",
        "        np.round(bayes_cv_tuner.best_score_, 4),\n",
        "        bayes_cv_tuner.best_params_\n",
        "    ))\n",
        "    \n",
        "    # Save all model results\n",
        "    clf_name = bayes_cv_tuner.estimator.__class__.__name__\n",
        "    all_models.to_csv(clf_name+\"_cv_results.csv\")"
      ],
      "execution_count": 0,
      "outputs": []
    },
    {
      "cell_type": "code",
      "metadata": {
        "id": "FRxHAldOeOks",
        "colab_type": "code",
        "outputId": "bfee7bf6-56bd-4b43-e716-66b2717053ec",
        "colab": {
          "base_uri": "https://localhost:8080/",
          "height": 1000
        }
      },
      "source": [
        "result = bayes_cv_tuner.fit(X_train, y_train, callback=Print_Model_Results)\n",
        "\n",
        "#https://machinelearningmastery.com/hyperparameters-for-classification-machine-learning-algorithms/\n",
        "#https://www.kaggle.com/nanomathias/bayesian-optimization-of-xgboost-lb-0-9769"
      ],
      "execution_count": 17,
      "outputs": [
        {
          "output_type": "stream",
          "text": [
            "Model #1\n",
            "Best accuracy: 0.915\n",
            "Best params: OrderedDict([('max_depth', 8), ('max_features', 'log2'), ('min_samples_leaf', 20), ('min_samples_split', 5), ('n_estimators', 435)])\n",
            "\n",
            "Model #2\n",
            "Best accuracy: 0.9541\n",
            "Best params: OrderedDict([('max_depth', 20), ('max_features', 'log2'), ('min_samples_leaf', 2), ('min_samples_split', 20), ('n_estimators', 532)])\n",
            "\n",
            "Model #3\n",
            "Best accuracy: 0.9541\n",
            "Best params: OrderedDict([('max_depth', 20), ('max_features', 'log2'), ('min_samples_leaf', 2), ('min_samples_split', 20), ('n_estimators', 532)])\n",
            "\n",
            "Model #4\n",
            "Best accuracy: 0.9541\n",
            "Best params: OrderedDict([('max_depth', 20), ('max_features', 'log2'), ('min_samples_leaf', 2), ('min_samples_split', 20), ('n_estimators', 532)])\n",
            "\n",
            "Model #5\n",
            "Best accuracy: 0.9541\n",
            "Best params: OrderedDict([('max_depth', 20), ('max_features', 'log2'), ('min_samples_leaf', 2), ('min_samples_split', 20), ('n_estimators', 532)])\n",
            "\n",
            "Model #6\n",
            "Best accuracy: 0.9589\n",
            "Best params: OrderedDict([('max_depth', 15), ('max_features', 'log2'), ('min_samples_leaf', 1), ('min_samples_split', 3), ('n_estimators', 500)])\n",
            "\n",
            "Model #7\n",
            "Best accuracy: 0.9589\n",
            "Best params: OrderedDict([('max_depth', 15), ('max_features', 'log2'), ('min_samples_leaf', 1), ('min_samples_split', 3), ('n_estimators', 500)])\n",
            "\n",
            "Model #8\n",
            "Best accuracy: 0.9589\n",
            "Best params: OrderedDict([('max_depth', 15), ('max_features', 'log2'), ('min_samples_leaf', 1), ('min_samples_split', 3), ('n_estimators', 500)])\n",
            "\n",
            "Model #9\n",
            "Best accuracy: 0.9589\n",
            "Best params: OrderedDict([('max_depth', 15), ('max_features', 'log2'), ('min_samples_leaf', 1), ('min_samples_split', 3), ('n_estimators', 500)])\n",
            "\n",
            "Model #10\n",
            "Best accuracy: 0.9589\n",
            "Best params: OrderedDict([('max_depth', 15), ('max_features', 'log2'), ('min_samples_leaf', 1), ('min_samples_split', 3), ('n_estimators', 500)])\n",
            "\n",
            "Model #11\n",
            "Best accuracy: 0.9589\n",
            "Best params: OrderedDict([('max_depth', 15), ('max_features', 'log2'), ('min_samples_leaf', 1), ('min_samples_split', 3), ('n_estimators', 500)])\n",
            "\n",
            "Model #12\n",
            "Best accuracy: 0.9589\n",
            "Best params: OrderedDict([('max_depth', 15), ('max_features', 'log2'), ('min_samples_leaf', 1), ('min_samples_split', 3), ('n_estimators', 500)])\n",
            "\n",
            "Model #13\n",
            "Best accuracy: 0.9589\n",
            "Best params: OrderedDict([('max_depth', 15), ('max_features', 'log2'), ('min_samples_leaf', 1), ('min_samples_split', 3), ('n_estimators', 500)])\n",
            "\n",
            "Model #14\n",
            "Best accuracy: 0.9589\n",
            "Best params: OrderedDict([('max_depth', 15), ('max_features', 'log2'), ('min_samples_leaf', 1), ('min_samples_split', 3), ('n_estimators', 500)])\n",
            "\n",
            "Model #15\n",
            "Best accuracy: 0.9589\n",
            "Best params: OrderedDict([('max_depth', 15), ('max_features', 'log2'), ('min_samples_leaf', 1), ('min_samples_split', 3), ('n_estimators', 500)])\n",
            "\n",
            "Model #16\n",
            "Best accuracy: 0.9635\n",
            "Best params: OrderedDict([('max_depth', 20), ('max_features', 'auto'), ('min_samples_leaf', 2), ('min_samples_split', 3), ('n_estimators', 600)])\n",
            "\n",
            "Model #17\n",
            "Best accuracy: 0.9635\n",
            "Best params: OrderedDict([('max_depth', 20), ('max_features', 'auto'), ('min_samples_leaf', 2), ('min_samples_split', 3), ('n_estimators', 600)])\n",
            "\n"
          ],
          "name": "stdout"
        },
        {
          "output_type": "stream",
          "text": [
            "/usr/local/lib/python3.6/dist-packages/skopt/optimizer/optimizer.py:409: UserWarning: The objective has been evaluated at this point before.\n",
            "  warnings.warn(\"The objective has been evaluated \"\n"
          ],
          "name": "stderr"
        },
        {
          "output_type": "stream",
          "text": [
            "Model #18\n",
            "Best accuracy: 0.9637\n",
            "Best params: OrderedDict([('max_depth', 20), ('max_features', 'auto'), ('min_samples_leaf', 2), ('min_samples_split', 3), ('n_estimators', 600)])\n",
            "\n",
            "Model #19\n",
            "Best accuracy: 0.9637\n",
            "Best params: OrderedDict([('max_depth', 20), ('max_features', 'auto'), ('min_samples_leaf', 2), ('min_samples_split', 3), ('n_estimators', 600)])\n",
            "\n",
            "Model #20\n",
            "Best accuracy: 0.9637\n",
            "Best params: OrderedDict([('max_depth', 20), ('max_features', 'auto'), ('min_samples_leaf', 2), ('min_samples_split', 3), ('n_estimators', 600)])\n",
            "\n"
          ],
          "name": "stdout"
        }
      ]
    },
    {
      "cell_type": "markdown",
      "metadata": {
        "id": "_KL7mP1Sext4",
        "colab_type": "text"
      },
      "source": [
        " How well can you do? You should use the accuracy metric to compare to logistic regression. What are the hyperparameters of your best model? "
      ]
    },
    {
      "cell_type": "markdown",
      "metadata": {
        "id": "uDc93GOCe49w",
        "colab_type": "text"
      },
      "source": [
        "The best hyperparameters are : (max_depth=20,max_features='auto',min_samples_leaf=2,min_samples_split=3,n_estimators=600)"
      ]
    },
    {
      "cell_type": "code",
      "metadata": {
        "id": "lsscZLxMe2cd",
        "colab_type": "code",
        "colab": {}
      },
      "source": [
        "# Best params: OrderedDict(max_depth=20,max_features='auto',min_samples_leaf=2,min_samples_split=3,n_estimators=600)\n"
      ],
      "execution_count": 0,
      "outputs": []
    },
    {
      "cell_type": "code",
      "metadata": {
        "id": "6zqCpEDHJ4vY",
        "colab_type": "code",
        "colab": {}
      },
      "source": [
        "RF_classifier = RandomForestClassifier(max_depth=20,max_features='auto',min_samples_leaf=2,min_samples_split=3,n_estimators=600)  ##The best parameters are mention"
      ],
      "execution_count": 0,
      "outputs": []
    },
    {
      "cell_type": "code",
      "metadata": {
        "id": "ta_82Ip0KNWI",
        "colab_type": "code",
        "outputId": "d6e05081-1b14-42a5-e79d-0eca816b63f7",
        "colab": {
          "base_uri": "https://localhost:8080/",
          "height": 159
        }
      },
      "source": [
        "RF_classifier.fit(X_train,y_train)"
      ],
      "execution_count": 21,
      "outputs": [
        {
          "output_type": "execute_result",
          "data": {
            "text/plain": [
              "RandomForestClassifier(bootstrap=True, ccp_alpha=0.0, class_weight=None,\n",
              "                       criterion='gini', max_depth=20, max_features='auto',\n",
              "                       max_leaf_nodes=None, max_samples=None,\n",
              "                       min_impurity_decrease=0.0, min_impurity_split=None,\n",
              "                       min_samples_leaf=2, min_samples_split=3,\n",
              "                       min_weight_fraction_leaf=0.0, n_estimators=600,\n",
              "                       n_jobs=None, oob_score=False, random_state=None,\n",
              "                       verbose=0, warm_start=False)"
            ]
          },
          "metadata": {
            "tags": []
          },
          "execution_count": 21
        }
      ]
    },
    {
      "cell_type": "code",
      "metadata": {
        "id": "a-mI33KpKR4j",
        "colab_type": "code",
        "colab": {}
      },
      "source": [
        "predictions=RF_classifier.predict(X_test)"
      ],
      "execution_count": 0,
      "outputs": []
    },
    {
      "cell_type": "code",
      "metadata": {
        "id": "HDF9fhzox7Vb",
        "colab_type": "code",
        "colab": {
          "base_uri": "https://localhost:8080/",
          "height": 35
        },
        "outputId": "9e936655-241c-40a8-95f9-af2da2f0d987"
      },
      "source": [
        "RF_classifier.score(X_train,y_train)\n"
      ],
      "execution_count": 23,
      "outputs": [
        {
          "output_type": "execute_result",
          "data": {
            "text/plain": [
              "0.9984571428571428"
            ]
          },
          "metadata": {
            "tags": []
          },
          "execution_count": 23
        }
      ]
    },
    {
      "cell_type": "code",
      "metadata": {
        "id": "2EvjuRJ4x2Qd",
        "colab_type": "code",
        "colab": {
          "base_uri": "https://localhost:8080/",
          "height": 35
        },
        "outputId": "4a9b75b5-762a-4b7b-9b48-77887a03d4be"
      },
      "source": [
        "RF_classifier.score(X_test,y_test)"
      ],
      "execution_count": 22,
      "outputs": [
        {
          "output_type": "execute_result",
          "data": {
            "text/plain": [
              "0.9708571428571429"
            ]
          },
          "metadata": {
            "tags": []
          },
          "execution_count": 22
        }
      ]
    },
    {
      "cell_type": "markdown",
      "metadata": {
        "id": "zwhqT09nfARQ",
        "colab_type": "text"
      },
      "source": [
        "The Random Forest Classifer gives an accuracy of 0.97085714 after doing hyper parameter tuning"
      ]
    },
    {
      "cell_type": "code",
      "metadata": {
        "id": "LK0Y0RBbL-IQ",
        "colab_type": "code",
        "colab": {}
      },
      "source": [
        "from sklearn.metrics import classification_report"
      ],
      "execution_count": 0,
      "outputs": []
    },
    {
      "cell_type": "code",
      "metadata": {
        "id": "k1T_JEteMDew",
        "colab_type": "code",
        "outputId": "041bda63-635c-45a2-8107-89f0fc6970a9",
        "colab": {
          "base_uri": "https://localhost:8080/",
          "height": 319
        }
      },
      "source": [
        "print(classification_report(y_test,predictions))"
      ],
      "execution_count": 0,
      "outputs": [
        {
          "output_type": "stream",
          "text": [
            "              precision    recall  f1-score   support\n",
            "\n",
            "           0       0.98      0.99      0.98      1719\n",
            "           1       0.99      0.99      0.99      1929\n",
            "           2       0.96      0.97      0.97      1787\n",
            "           3       0.97      0.97      0.97      1790\n",
            "           4       0.98      0.96      0.97      1735\n",
            "           5       0.98      0.96      0.97      1574\n",
            "           6       0.98      0.99      0.98      1672\n",
            "           7       0.97      0.96      0.97      1844\n",
            "           8       0.96      0.96      0.96      1721\n",
            "           9       0.94      0.95      0.95      1729\n",
            "\n",
            "    accuracy                           0.97     17500\n",
            "   macro avg       0.97      0.97      0.97     17500\n",
            "weighted avg       0.97      0.97      0.97     17500\n",
            "\n"
          ],
          "name": "stdout"
        }
      ]
    },
    {
      "cell_type": "code",
      "metadata": {
        "id": "EA3prZmwMFS6",
        "colab_type": "code",
        "colab": {}
      },
      "source": [
        "#https://www.kaggle.com/nanomathias/bayesian-optimization-of-xgboost-lb-0-9769\n",
        "\n",
        "#https://medium.com/@gabrielziegler3/multiclass-multilabel-classification-with-xgboost-66195e4d9f2d\n",
        "\n",
        "ITERATIONS = 20\n",
        "\n",
        "# Classifier\n",
        "bayes_cv_tuner = BayesSearchCV(\n",
        "    estimator = xgb.XGBClassifier(\n",
        "        n_jobs = 1,\n",
        "        objective = 'multi:softmax',\n",
        "        eval_metric = 'mlogloss',\n",
        "        silent=1,\n",
        "        num_class=10,\n",
        "        tree_method='approx'\n",
        "    ),\n",
        "      search_spaces = {\n",
        "        # 'min_samples_split': [3, 5, 8, 10, 20], \n",
        "        # 'n_estimators' : [100, 500],\n",
        "        # 'max_depth': (3,20),\n",
        "        # 'max_features': [3, 5, 8],\n",
        "        # 'learning_rate': (0.01, 1.0, 'log-uniform'),\n",
        "        # 'colsample_bytree': (0.1, 1.0, 'uniform'),\n",
        "        # 'colsample_bylevel': (0.4, 1.0, 'uniform'),\n",
        "\n",
        "        \n",
        "        # 'n_estimators' : (200, 1000),\n",
        "        # 'max_depth': [3, 5, 8, 10, 15,20],\n",
        "        # 'min_child_weight':(1,10),\n",
        "        # 'learning_rate': (0.01, 1.0, 'log-uniform'),\n",
        "        # 'colsample_bytree': (0.01, 1.0, 'uniform'),\n",
        "        # 'colsample_bylevel': (0.2, 1.0, 'uniform'),\n",
        "        #  'gamma': [0.5, 1, 1.5, 2, 5,8,10],\n",
        "        #  'max_delta_step':(1,10)\n",
        "  \n",
        "\n",
        "        'min_samples_split': [3, 5, 8, 10, 20], \n",
        "        'n_estimators' : [100, 500],\n",
        "        'max_depth': [3, 5, 8, 10, 15],\n",
        "        'max_features': [3, 5, 8],\n",
        "        'learning_rate': (0.01, 1.0, 'log-uniform')\n",
        "        # 'colsample_bytree': (0.01, 1.0, 'uniform'),\n",
        "        # 'colsample_bylevel': (0.01, 1.0, 'uniform') \n",
        "\n",
        "    },     \n",
        "    scoring = 'accuracy',\n",
        "    cv = StratifiedKFold(\n",
        "        n_splits=3,\n",
        "        shuffle=True,\n",
        "        random_state=42\n",
        "    ),\n",
        "    n_jobs = 3,\n",
        "    n_iter = ITERATIONS,   \n",
        "    verbose = 0,\n",
        "    refit = True,\n",
        "    random_state = 42\n",
        ")"
      ],
      "execution_count": 0,
      "outputs": []
    },
    {
      "cell_type": "code",
      "metadata": {
        "id": "AdlAlCA6hOKy",
        "colab_type": "code",
        "colab": {}
      },
      "source": [
        "def Print_Model_Results(optim_result):\n",
        "    \"\"\"Status callback durring bayesian hyperparameter search\"\"\"\n",
        "    \n",
        "    # Get all the models tested so far in DataFrame format\n",
        "    all_models = pd.DataFrame(bayes_cv_tuner.cv_results_)    \n",
        "    \n",
        "    # Get current parameters and the best parameters    \n",
        "    best_params = pd.Series(bayes_cv_tuner.best_params_)\n",
        "    print('Model #{}\\nBest accuracy: {}\\nBest params: {}\\n'.format(\n",
        "        len(all_models),\n",
        "        np.round(bayes_cv_tuner.best_score_, 4),\n",
        "        bayes_cv_tuner.best_params_\n",
        "    ))\n",
        "    \n",
        "    # Save all model results\n",
        "    clf_name = bayes_cv_tuner.estimator.__class__.__name__\n",
        "    all_models.to_csv(clf_name+\"_cv_results.csv\")\n",
        "    "
      ],
      "execution_count": 0,
      "outputs": []
    },
    {
      "cell_type": "code",
      "metadata": {
        "id": "mYNJn3R_ierk",
        "colab_type": "code",
        "colab": {}
      },
      "source": [
        "result = bayes_cv_tuner.fit(X_train, y_train, callback=Print_Model_Results)\n",
        "\n",
        "#https://machinelearningmastery.com/hyperparameters-for-classification-machine-learning-algorithms/\n",
        "#https://www.kaggle.com/nanomathias/bayesian-optimization-of-xgboost-lb-0-9769"
      ],
      "execution_count": 0,
      "outputs": []
    },
    {
      "cell_type": "markdown",
      "metadata": {
        "id": "KZ7mCF4ahMeZ",
        "colab_type": "text"
      },
      "source": [
        "The best hyperparameters for XGBoost Algorithm are max_depth=15,max_features=5,min_samples_split=3,n_estimators=402,colsample_bylevel=0.8142720284737898,colsample_bytree = 0.1801528457825951,learning_rate = 0.1570703295827246)  "
      ]
    },
    {
      "cell_type": "markdown",
      "metadata": {
        "id": "tARcC6dbhKJc",
        "colab_type": "text"
      },
      "source": [
        " Use Gradient Boosting to do the same. Try your best to tune your hyper parameters. What are the hyperparameters of your best model?\n"
      ]
    },
    {
      "cell_type": "code",
      "metadata": {
        "id": "8OSuqShJRhcV",
        "colab_type": "code",
        "colab": {}
      },
      "source": [
        "XGB_classifier = XGBClassifier(max_depth=15,max_features=5,min_samples_split=3,n_estimators=402,colsample_bylevel=0.8142720284737898,colsample_bytree = 0.1801528457825951,learning_rate = 0.1570703295827246) "
      ],
      "execution_count": 0,
      "outputs": []
    },
    {
      "cell_type": "code",
      "metadata": {
        "id": "6xypj5krTCl9",
        "colab_type": "code",
        "outputId": "11b30382-85dd-494c-ddde-df253ac52287",
        "colab": {
          "base_uri": "https://localhost:8080/",
          "height": 177
        }
      },
      "source": [
        "XGB_classifier.fit(X_train,y_train)"
      ],
      "execution_count": 0,
      "outputs": [
        {
          "output_type": "execute_result",
          "data": {
            "text/plain": [
              "XGBClassifier(base_score=0.5, booster='gbtree',\n",
              "              colsample_bylevel=0.8142720284737898, colsample_bynode=1,\n",
              "              colsample_bytree=0.1801528457825951, gamma=0,\n",
              "              learning_rate=0.1570703295827246, max_delta_step=0, max_depth=15,\n",
              "              max_features=5, min_child_weight=1, min_samples_split=3,\n",
              "              missing=None, n_estimators=402, n_jobs=1, nthread=None,\n",
              "              objective='multi:softprob', random_state=0, reg_alpha=0,\n",
              "              reg_lambda=1, scale_pos_weight=1, seed=None, silent=None,\n",
              "              subsample=1, verbosity=1)"
            ]
          },
          "metadata": {
            "tags": []
          },
          "execution_count": 17
        }
      ]
    },
    {
      "cell_type": "code",
      "metadata": {
        "id": "KHdnivsmTGtl",
        "colab_type": "code",
        "colab": {}
      },
      "source": [
        "xgb_predictions = XGB_classifier.predict(X_test)"
      ],
      "execution_count": 0,
      "outputs": []
    },
    {
      "cell_type": "code",
      "metadata": {
        "id": "XOUWR742apZe",
        "colab_type": "code",
        "outputId": "26aa55e5-cb52-4096-a7aa-677330360408",
        "colab": {
          "base_uri": "https://localhost:8080/",
          "height": 35
        }
      },
      "source": [
        "XGB_classifier.score(X_train,y_train) # Training Accuracy is 1.0"
      ],
      "execution_count": 0,
      "outputs": [
        {
          "output_type": "execute_result",
          "data": {
            "text/plain": [
              "1.0"
            ]
          },
          "metadata": {
            "tags": []
          },
          "execution_count": 20
        }
      ]
    },
    {
      "cell_type": "markdown",
      "metadata": {
        "id": "JaKwPxv2hcvM",
        "colab_type": "text"
      },
      "source": [
        "The cross validation accuracy for XGBoost is 0.97619"
      ]
    },
    {
      "cell_type": "code",
      "metadata": {
        "id": "Ez9uvzK5hMlb",
        "colab_type": "code",
        "outputId": "a7ae9ccb-2bed-4dec-faa7-63107f64867c",
        "colab": {
          "base_uri": "https://localhost:8080/",
          "height": 52
        }
      },
      "source": [
        "cross_validation(XGB_classifier,X_train,y_train,'XGB')"
      ],
      "execution_count": 0,
      "outputs": [
        {
          "output_type": "stream",
          "text": [
            "Accuracy Value for XGB: 0.976 (0.003)\n"
          ],
          "name": "stdout"
        },
        {
          "output_type": "execute_result",
          "data": {
            "text/plain": [
              "0.976190476190476"
            ]
          },
          "metadata": {
            "tags": []
          },
          "execution_count": 21
        }
      ]
    },
    {
      "cell_type": "code",
      "metadata": {
        "id": "1b4PwMa3hy5u",
        "colab_type": "code",
        "outputId": "9ec1b1f6-fb96-4fb9-b1f4-38916c7bb217",
        "colab": {
          "base_uri": "https://localhost:8080/",
          "height": 35
        }
      },
      "source": [
        "XGB_classifier.score(X_test,y_test)"
      ],
      "execution_count": 0,
      "outputs": [
        {
          "output_type": "execute_result",
          "data": {
            "text/plain": [
              "0.9796"
            ]
          },
          "metadata": {
            "tags": []
          },
          "execution_count": 22
        }
      ]
    },
    {
      "cell_type": "markdown",
      "metadata": {
        "id": "dbQDgZKCkz6j",
        "colab_type": "text"
      },
      "source": [
        "The Testing Accuracy is 0.9796"
      ]
    },
    {
      "cell_type": "code",
      "metadata": {
        "id": "e23HHW6zqZGd",
        "colab_type": "code",
        "colab": {}
      },
      "source": [
        ""
      ],
      "execution_count": 0,
      "outputs": []
    }
  ]
}